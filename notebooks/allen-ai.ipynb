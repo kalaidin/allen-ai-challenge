{
 "cells": [
  {
   "cell_type": "code",
   "execution_count": 207,
   "metadata": {},
   "outputs": [],
   "source": [
    "import gensim \n",
    "import re\n",
    "import multiprocessing\n",
    "import os\n",
    "import numpy as np\n",
    "from collections import Counter"
   ]
  },
  {
   "cell_type": "code",
   "execution_count": 208,
   "metadata": {},
   "outputs": [
    {
     "name": "stdout",
     "output_type": "stream",
     "text": [
      "0.11.1.post1\n"
     ]
    }
   ],
   "source": [
    "print(gensim.__version__)"
   ]
  },
  {
   "cell_type": "code",
   "execution_count": 209,
   "metadata": {},
   "outputs": [
    {
     "data": {
      "text/plain": [
       "1"
      ]
     },
     "execution_count": 209,
     "output_type": "execute_result",
     "metadata": {}
    }
   ],
   "source": [
    "gensim.models.word2vec.FAST_VERSION"
   ]
  },
  {
   "cell_type": "code",
   "execution_count": 181,
   "metadata": {},
   "outputs": [],
   "source": [
    "DATA = \"/data/datasets/ck12.txt\""
   ]
  },
  {
   "cell_type": "code",
   "execution_count": 182,
   "metadata": {},
   "outputs": [
    {
     "name": "stdout",
     "output_type": "stream",
     "text": [
      "272578 /data/datasets/ck12.txt\r\n"
     ]
    }
   ],
   "source": [
    "!wc -l /data/datasets/ck12.txt"
   ]
  },
  {
   "cell_type": "code",
   "execution_count": 183,
   "metadata": {},
   "outputs": [],
   "source": [
    "def parse_text(t):\n",
    "    s = re.sub(r'[^\\w\\s]', '', t)\n",
    "    r = s.lower().split()\n",
    "    return r"
   ]
  },
  {
   "cell_type": "code",
   "execution_count": 184,
   "metadata": {},
   "outputs": [],
   "source": [
    "def iter_lines(fname):\n",
    "    with open(fname) as f:\n",
    "        for l in f:\n",
    "            r = parse_text(l)\n",
    "            if len(r) > 0:\n",
    "                yield r"
   ]
  },
  {
   "cell_type": "code",
   "execution_count": 185,
   "metadata": {},
   "outputs": [
    {
     "name": "stdout",
     "output_type": "stream",
     "text": [
      "['to', 'access', 'a', 'customizable', 'version', 'of', 'this', 'book', 'as', 'well', 'as', 'other', 'interactive', 'content', 'visit', 'wwwck12org']\n",
      "['ck12', 'foundation', 'is', 'a', 'nonprofit', 'organization', 'with', 'a', 'mission', 'to', 'reduce', 'the', 'cost', 'of', 'textbook', 'materials', 'for', 'the', 'k12', 'market', 'both', 'in', 'the', 'us', 'and', 'worldwide', 'using', 'an', 'opencontent', 'webbased', 'collaborative', 'model', 'termed', 'the', 'flexbook', 'ck12', 'intends', 'to', 'pioneer', 'the', 'generation', 'and', 'distribution', 'of', 'highquality', 'educational', 'content', 'that', 'will', 'serve', 'both', 'as', 'core', 'text', 'as', 'well', 'as', 'provide', 'an', 'adaptive', 'environment', 'for', 'learning', 'powered', 'through', 'the', 'flexbook', 'platform']\n",
      "['copyright', '2014', 'ck12', 'foundation', 'wwwck12org']\n"
     ]
    }
   ],
   "source": [
    "for i, t in enumerate(iter_lines(DATA)):\n",
    "    print(t)\n",
    "    if i > 1:\n",
    "        break"
   ]
  },
  {
   "cell_type": "code",
   "execution_count": 186,
   "metadata": {},
   "outputs": [],
   "source": [
    "class Sentences(object):\n",
    "    \n",
    "    def __init__(self, filename):\n",
    "        self.filename = filename\n",
    "        \n",
    "    def __iter__(self):\n",
    "        for text in iter_lines(self.filename):\n",
    "            yield text"
   ]
  },
  {
   "cell_type": "code",
   "execution_count": 187,
   "metadata": {},
   "outputs": [],
   "source": [
    "sentences = Sentences(DATA)"
   ]
  },
  {
   "cell_type": "code",
   "execution_count": 188,
   "metadata": {},
   "outputs": [
    {
     "name": "stdout",
     "output_type": "stream",
     "text": [
      "CPU times: user 13min 15s, sys: 9.24 s, total: 13min 24s\n",
      "Wall time: 2min 27s\n"
     ]
    }
   ],
   "source": [
    "%%time\n",
    "word_model = gensim.models.Word2Vec(sentences, workers=multiprocessing.cpu_count(), size=300, iter=10)"
   ]
  },
  {
   "cell_type": "code",
   "execution_count": 189,
   "metadata": {},
   "outputs": [],
   "source": [
    "word_model.save(\"/data/datasets/a2_w2v.model\")"
   ]
  },
  {
   "cell_type": "code",
   "execution_count": 192,
   "metadata": {},
   "outputs": [
    {
     "data": {
      "text/plain": [
       "[('dwarfs', 0.5507678985595703),\n",
       " ('eris', 0.5450934171676636),\n",
       " ('makemake', 0.5250632166862488),\n",
       " ('ceres', 0.5198060274124146),\n",
       " ('pluto', 0.49868565797805786),\n",
       " ('haumea', 0.46100103855133057),\n",
       " ('galaxies', 0.4567176103591919),\n",
       " ('irregular', 0.43478572368621826),\n",
       " ('supergiants', 0.4344647526741028),\n",
       " ('supergiant', 0.41168296337127686)]"
      ]
     },
     "execution_count": 192,
     "output_type": "execute_result",
     "metadata": {}
    }
   ],
   "source": [
    "word_model.most_similar(\"dwarf\")"
   ]
  },
  {
   "cell_type": "code",
   "execution_count": null,
   "metadata": {},
   "outputs": [],
   "source": [
    "GLOVE = \"/data/datasets/\""
   ]
  },
  {
   "cell_type": "code",
   "execution_count": 193,
   "metadata": {},
   "outputs": [],
   "source": [
    "TRAIN_SET = \"/data/datasets/training_set.tsv\""
   ]
  },
  {
   "cell_type": "code",
   "execution_count": 194,
   "metadata": {},
   "outputs": [],
   "source": [
    "def quantify_text(t):\n",
    "    words = parse_text(t)\n",
    "    return [w for w in words if w in word_model.vocab if len(w) > 2]"
   ]
  },
  {
   "cell_type": "code",
   "execution_count": 201,
   "metadata": {},
   "outputs": [],
   "source": [
    "def range_answers(q, answers):\n",
    "    question = quantify_text(q)\n",
    "    ps = Counter()\n",
    "    scores = []\n",
    "    for a in answers:\n",
    "        a_q = quantify_text(a)\n",
    "        if a_q != []:\n",
    "            si = word_model.n_similarity(question, a_q)\n",
    "            scores.append(si)\n",
    "        else:\n",
    "            scores.append(0)\n",
    "    return scores"
   ]
  },
  {
   "cell_type": "code",
   "execution_count": 202,
   "metadata": {},
   "outputs": [],
   "source": [
    "tries = []\n",
    "with open(TRAIN_SET) as f:\n",
    "    next(f)\n",
    "    for i, l in enumerate(f):\n",
    "        [qid, q, r, aa, ab, ac, ad] = l.strip().split(\"\\t\")\n",
    "        scores = range_answers(q, [aa, ab, ac, ad])\n",
    "        guess = \"ABCD\"[scores.index(max(scores))]\n",
    "#         print(q, aa, ab, ac, ad, scores, r, guess)\n",
    "#         if i > 10:\n",
    "#             break\n",
    "        tries.append(1 if guess == r else 0)"
   ]
  },
  {
   "cell_type": "code",
   "execution_count": 203,
   "metadata": {},
   "outputs": [
    {
     "data": {
      "text/plain": [
       "0.33119999999999999"
      ]
     },
     "execution_count": 203,
     "output_type": "execute_result",
     "metadata": {}
    }
   ],
   "source": [
    "np.mean(tries)"
   ]
  },
  {
   "cell_type": "code",
   "execution_count": 204,
   "metadata": {},
   "outputs": [
    {
     "data": {
      "text/plain": [
       "2500"
      ]
     },
     "execution_count": 204,
     "output_type": "execute_result",
     "metadata": {}
    }
   ],
   "source": [
    "len(tries)"
   ]
  },
  {
   "cell_type": "code",
   "execution_count": 205,
   "metadata": {},
   "outputs": [
    {
     "data": {
      "text/plain": [
       "[0, 1, 0, 0, 0, 1, 0, 1, 0, 1]"
      ]
     },
     "execution_count": 205,
     "output_type": "execute_result",
     "metadata": {}
    }
   ],
   "source": [
    "tries[0:10]"
   ]
  },
  {
   "cell_type": "code",
   "execution_count": 206,
   "metadata": {},
   "outputs": [
    {
     "data": {
      "text/plain": [
       "11553"
      ]
     },
     "execution_count": 206,
     "output_type": "execute_result",
     "metadata": {}
    }
   ],
   "source": [
    "len(word_model.vocab)"
   ]
  },
  {
   "cell_type": "code",
   "execution_count": 175,
   "metadata": {},
   "outputs": [],
   "source": [
    "with open(\"/data/datasets/w2v_a2.tsv\", \"w\") as fo:\n",
    "    for w in word_model.vocab:\n",
    "        fo.write(\"%s\\t%s\\n\" % (w, \"\\t\".join(map(str, word_model[w]))))"
   ]
  },
  {
   "cell_type": "code",
   "execution_count": 172,
   "metadata": {},
   "outputs": [],
   "source": [
    "VALIDATION_SET = \"/data/datasets/validation_set.tsv\"\n",
    "SUBMISSION = \"/data/datasets/submission.txt\""
   ]
  },
  {
   "cell_type": "code",
   "execution_count": 173,
   "metadata": {},
   "outputs": [],
   "source": [
    "with open(SUBMISSION, \"w\") as s:\n",
    "    s.write(\"id,correctAnswer\\n\")\n",
    "    with open(VALIDATION_SET) as fv:\n",
    "        next(fv)\n",
    "        for l in fv:\n",
    "            [qid, q, aa, ab, ac, ad] = l.strip().split(\"\\t\")\n",
    "            scores = range_answers(q, [aa, ab, ac, ad])\n",
    "            guess = \"ABCD\"[scores.index(max(scores))]\n",
    "            s.write(\"%s,%s\\n\" % (qid, guess))"
   ]
  }
 ],
 "metadata": {
  "kernelspec": {
   "display_name": "Python 3",
   "language": "python",
   "name": "python3"
  },
  "language_info": {
   "codemirror_mode": {
    "name": "ipython",
    "version": 3.0
   },
   "file_extension": ".py",
   "mimetype": "text/x-python",
   "name": "python",
   "nbconvert_exporter": "python",
   "pygments_lexer": "ipython3",
   "version": "3.4.3"
  }
 },
 "nbformat": 4,
 "nbformat_minor": 0
}