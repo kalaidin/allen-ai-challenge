{
 "cells": [
  {
   "cell_type": "code",
   "execution_count": 312,
   "metadata": {
    "collapsed": false
   },
   "outputs": [],
   "source": [
    "from nltk.corpus import stopwords\n",
    "stop = stopwords.words('english')"
   ]
  },
  {
   "cell_type": "code",
   "execution_count": 313,
   "metadata": {
    "collapsed": true
   },
   "outputs": [],
   "source": [
    "import gensim \n",
    "import re\n",
    "import multiprocessing\n",
    "import os\n",
    "import numpy as np\n",
    "from collections import Counter\n",
    "import json\n",
    "import nltk"
   ]
  },
  {
   "cell_type": "code",
   "execution_count": 314,
   "metadata": {
    "collapsed": false
   },
   "outputs": [
    {
     "name": "stdout",
     "output_type": "stream",
     "text": [
      "0.12.1\n"
     ]
    }
   ],
   "source": [
    "print(gensim.__version__)"
   ]
  },
  {
   "cell_type": "code",
   "execution_count": 315,
   "metadata": {
    "collapsed": false
   },
   "outputs": [
    {
     "data": {
      "text/plain": [
       "1"
      ]
     },
     "execution_count": 315,
     "metadata": {},
     "output_type": "execute_result"
    }
   ],
   "source": [
    "gensim.models.word2vec.FAST_VERSION"
   ]
  },
  {
   "cell_type": "code",
   "execution_count": 316,
   "metadata": {
    "collapsed": true
   },
   "outputs": [],
   "source": [
    "DATADIR = \"/data/datasets/a2/wiki_dump/\""
   ]
  },
  {
   "cell_type": "code",
   "execution_count": 318,
   "metadata": {
    "collapsed": false
   },
   "outputs": [],
   "source": [
    "def parse_text(t):\n",
    "    s = re.sub(r'[^\\w\\s]', '', t)\n",
    "    r = s.lower().split()\n",
    "    return r"
   ]
  },
  {
   "cell_type": "code",
   "execution_count": 320,
   "metadata": {
    "collapsed": true
   },
   "outputs": [],
   "source": [
    "def iter_text(directory):\n",
    "    for fname in os.listdir(directory):\n",
    "        with open(os.path.join(directory, fname), encoding=\"utf-8\", errors=\"ignore\") as f:\n",
    "            if \"json\" in fname:\n",
    "                d = json.load(f)\n",
    "            else:\n",
    "                d = f.read()\n",
    "            for l in \" \".join(d).split(\"\\n\"):\n",
    "                r = parse_text(l)\n",
    "                if len(r) > 0:\n",
    "                    yield r"
   ]
  },
  {
   "cell_type": "code",
   "execution_count": 321,
   "metadata": {
    "collapsed": false
   },
   "outputs": [
    {
     "name": "stdout",
     "output_type": "stream",
     "text": [
      "['39', 'queen', 'song', 'reasons', 'this', 'message', 'may', 'be', 'displayed']\n",
      "['reasons', 'this', 'message', 'may', 'be', 'displayed']\n",
      "['39', 'queen', 'song']\n",
      "['reasons', 'this', 'message', 'may', 'be', 'displayed']\n",
      "['and', 'star', 'power', 'reasons', 'this', 'message', 'may', 'be', 'displayed']\n",
      "['reasons', 'this', 'message', 'may', 'be', 'displayed']\n",
      "['and', 'star', 'power']\n",
      "['reasons', 'this', 'message', 'may', 'be', 'displayed']\n",
      "['13bisphosphoglyceric', 'acid', '13bisphosphoglyceric', 'acid', '13bisphosphoglycerate', 'or', '13bpg', 'is', 'a', '3carbon', 'organic', 'molecule', 'present', 'in', 'most', 'if', 'not', 'all', 'living', 'organisms', 'it', 'primarily', 'exists', 'as', 'a', 'metabolic', 'intermediate', 'in', 'both', 'glycolysis', 'during', 'respiration', 'and', 'the', 'calvin', 'cycle', 'during', 'photosynthesis', '13bpg', 'is', 'a', 'transitional', 'stage', 'between', 'glycerate', '3phosphate', 'and', 'glyceraldehyde', '3phosphate', 'during', 'the', 'fixationreduction', 'of', 'co2', '13bpg', 'is', 'also', 'a', 'precursor', 'to', '23bisphosphoglycerate', 'which', 'in', 'turn', 'is', 'a', 'reaction', 'intermediate', 'in', 'the', 'glycolytic', 'pathway13bisphosphoglycerate', 'is', 'the', 'conjugate', 'base', 'of', '13bisphosphoglyceric', 'acid', 'it', 'is', 'phosphorylated', 'at', 'the', 'number', '1', 'and', '3', 'carbons', 'the', 'result', 'of', 'this', 'phosphorylation', 'gives', '13bpg', 'important', 'biological', 'properties', 'such', 'as', 'the', 'ability', 'to', 'phosphorylate', 'adp', 'to', 'form', 'the', 'energy', 'storage', 'molecule', 'atpcompound', 'c00118', 'at', 'kegg', 'pathway', 'database', 'enzyme', '12112', 'at', 'kegg', 'pathway', 'database', 'compound', 'c00236', 'at', 'kegg', 'pathway', 'database', 'enzyme', '2723', 'at', 'kegg', 'pathway', 'database', 'compound', 'c00197', 'at', 'kegg', 'pathway', 'database', '13bisphosphoglyceric', 'acid']\n",
      "['13bisphosphoglyceric', 'acid', '13bisphosphoglycerate', 'or', '13bpg', 'is', 'a', '3carbon', 'organic', 'molecule', 'present', 'in', 'most', 'if', 'not', 'all', 'living', 'organisms', 'it', 'primarily', 'exists', 'as', 'a', 'metabolic', 'intermediate', 'in', 'both', 'glycolysis', 'during', 'respiration', 'and', 'the', 'calvin', 'cycle', 'during', 'photosynthesis', '13bpg', 'is', 'a', 'transitional', 'stage', 'between', 'glycerate', '3phosphate', 'and', 'glyceraldehyde', '3phosphate', 'during', 'the', 'fixationreduction', 'of', 'co', '2', '13bpg', 'is', 'also', 'a', 'precursor', 'to', '23bisphosphoglycerate', 'which', 'in', 'turn', 'is', 'a', 'reaction', 'intermediate', 'in', 'the', 'glycolytic', 'pathway']\n",
      "['biological', 'structure', 'and', 'role']\n",
      "['13bisphosphoglycerate', 'is', 'the', 'conjugate', 'base', 'of', '13bisphosphoglyceric', 'acid', 'it', 'is', 'phosphorylated', 'at', 'the', 'number', '1', 'and', '3', 'carbons', 'the', 'result', 'of', 'this', 'phosphorylation', 'gives', '13bpg', 'important', 'biological', 'properties', 'such', 'as', 'the', 'ability', 'to', 'phosphorylate', 'adp', 'to', 'form', 'the', 'energy', 'storage', 'molecule', 'atp']\n"
     ]
    }
   ],
   "source": [
    "for i, t in enumerate(iter_text(DATADIR)):\n",
    "    print(t)\n",
    "    if i > 10:\n",
    "        break"
   ]
  },
  {
   "cell_type": "code",
   "execution_count": 322,
   "metadata": {
    "collapsed": true
   },
   "outputs": [],
   "source": [
    "class Sentences(object):\n",
    "    \n",
    "    def __init__(self, directory):\n",
    "        self.directory = directory\n",
    "        \n",
    "    def __iter__(self):\n",
    "        for text in iter_text(self.directory):\n",
    "            yield text"
   ]
  },
  {
   "cell_type": "code",
   "execution_count": 323,
   "metadata": {
    "collapsed": false
   },
   "outputs": [],
   "source": [
    "sentences = Sentences(DATADIR)"
   ]
  },
  {
   "cell_type": "code",
   "execution_count": 324,
   "metadata": {
    "collapsed": false
   },
   "outputs": [
    {
     "data": {
      "text/plain": [
       "8"
      ]
     },
     "execution_count": 324,
     "metadata": {},
     "output_type": "execute_result"
    }
   ],
   "source": [
    "multiprocessing.cpu_count()"
   ]
  },
  {
   "cell_type": "code",
   "execution_count": null,
   "metadata": {
    "collapsed": false
   },
   "outputs": [
    {
     "name": "stdout",
     "output_type": "stream",
     "text": [
      "CPU times: user 4d 14h 2min 44s, sys: 23.6 s, total: 4d 14h 3min 8s\n",
      "Wall time: 13h 49min 5s\n"
     ]
    }
   ],
   "source": [
    "%%time\n",
    "word_model = gensim.models.Word2Vec(sentences, workers=multiprocessing.cpu_count(),\n",
    "                                    size=300, iter=10, window=100,\n",
    "                                    min_count=10, sg=1)"
   ]
  },
  {
   "cell_type": "code",
   "execution_count": null,
   "metadata": {
    "collapsed": false
   },
   "outputs": [],
   "source": [
    "word_model.most_similar(\"acid\")"
   ]
  },
  {
   "cell_type": "code",
   "execution_count": null,
   "metadata": {
    "collapsed": true
   },
   "outputs": [],
   "source": [
    "a = 1"
   ]
  },
  {
   "cell_type": "code",
   "execution_count": 337,
   "metadata": {
    "collapsed": false
   },
   "outputs": [
    {
     "data": {
      "text/plain": [
       "33747"
      ]
     },
     "execution_count": 337,
     "metadata": {},
     "output_type": "execute_result"
    }
   ],
   "source": [
    "len(word_model.vocab)"
   ]
  },
  {
   "cell_type": "code",
   "execution_count": 338,
   "metadata": {
    "collapsed": true
   },
   "outputs": [],
   "source": [
    "TRAIN_SET = \"/data/datasets/a2/training_set.tsv\""
   ]
  },
  {
   "cell_type": "code",
   "execution_count": 339,
   "metadata": {
    "collapsed": true
   },
   "outputs": [],
   "source": [
    "def quantify_text(t, model):\n",
    "    words = parse_text(t)\n",
    "#     return [w for w in words if w in model.vocab]\n",
    "    emb = [word_model[w] for w in words if w in word_model.vocab and len(w) > 0]\n",
    "    if emb != []:\n",
    "        return np.mean(emb, axis=0)\n",
    "    else:\n",
    "        return np.zeros(model.vector_size)"
   ]
  },
  {
   "cell_type": "code",
   "execution_count": 340,
   "metadata": {
    "collapsed": true
   },
   "outputs": [],
   "source": [
    "from gensim import matutils\n",
    "def similarity(v1, v2):\n",
    "    return np.dot(matutils.unitvec(np.array(v1)), matutils.unitvec(np.array(v2)))"
   ]
  },
  {
   "cell_type": "code",
   "execution_count": 341,
   "metadata": {
    "collapsed": true
   },
   "outputs": [],
   "source": [
    "def range_answers(q, answers, models):\n",
    "    scores = []\n",
    "    for model in models:\n",
    "        question = quantify_text(q, model)\n",
    "        if (question == 0).all():\n",
    "            return None\n",
    "        ps = Counter()\n",
    "        scores_model = []\n",
    "        for a in answers:\n",
    "            a_q = quantify_text(a, model)\n",
    "            if (a_q == 0).all():\n",
    "                scores_model.append(0) \n",
    "            else:\n",
    "                si = similarity(question, a_q)\n",
    "                scores_model.append(si)\n",
    "        scores.append(scores_model)\n",
    "    return np.mean(scores, axis=0)"
   ]
  },
  {
   "cell_type": "code",
   "execution_count": 352,
   "metadata": {
    "collapsed": false,
    "scrolled": false
   },
   "outputs": [
    {
     "name": "stdout",
     "output_type": "stream",
     "text": [
      "A sperm that contains alleles HqT fuses with an egg that contains alleles hqt. Which of the following genotypes will form in the offspring? HHqqTt HhQqTt Hhqqtt HhqqTt\n"
     ]
    }
   ],
   "source": [
    "tries_min = []\n",
    "tries_max = []\n",
    "tries_o = []\n",
    "with open(TRAIN_SET) as f:\n",
    "    next(f)\n",
    "    for i, l in enumerate(f):\n",
    "        [qid, q, r, aa, ab, ac, ad] = l.strip().split(\"\\t\")\n",
    "        scores = range_answers(q, [aa, ab, ac, ad],\n",
    "                               [word_model])\n",
    "        no_scores = (scores == 0).all()\n",
    "        if not no_scores:\n",
    "            guess_min = \"ABCD\"[np.argmin(scores)]\n",
    "            guess_max = \"ABCD\"[np.argmax(scores)]\n",
    "            guess_o = \"ABCD\"[np.argmax(scores - np.mean(scores))]\n",
    "        else:\n",
    "            print(q, aa, ab, ac, ad)\n",
    "#         print(q, aa, ab, ac, ad, scores, r, guess)\n",
    "#         if i > 10:\n",
    "#             break\n",
    "        tries_max.append(1 if guess_max == r else 0)\n",
    "        tries_min.append(1 if guess_min == r else 0)\n",
    "        tries_o.append(1 if guess_o == r else 0)\n",
    "#         if guess_min == r:\n",
    "#             print(q, r, aa, ab, ac, ad, scores)"
   ]
  },
  {
   "cell_type": "code",
   "execution_count": 353,
   "metadata": {
    "collapsed": false
   },
   "outputs": [
    {
     "data": {
      "text/plain": [
       "0.2944"
      ]
     },
     "execution_count": 353,
     "metadata": {},
     "output_type": "execute_result"
    }
   ],
   "source": [
    "np.mean(tries_max)"
   ]
  },
  {
   "cell_type": "code",
   "execution_count": 354,
   "metadata": {
    "collapsed": false
   },
   "outputs": [
    {
     "data": {
      "text/plain": [
       "0.218"
      ]
     },
     "execution_count": 354,
     "metadata": {},
     "output_type": "execute_result"
    }
   ],
   "source": [
    "np.mean(tries_min)"
   ]
  },
  {
   "cell_type": "code",
   "execution_count": 355,
   "metadata": {
    "collapsed": false
   },
   "outputs": [
    {
     "data": {
      "text/plain": [
       "0.2944"
      ]
     },
     "execution_count": 355,
     "metadata": {},
     "output_type": "execute_result"
    }
   ],
   "source": [
    "np.mean(tries_o)"
   ]
  },
  {
   "cell_type": "code",
   "execution_count": 249,
   "metadata": {
    "collapsed": false
   },
   "outputs": [
    {
     "data": {
      "text/plain": [
       "2500"
      ]
     },
     "execution_count": 249,
     "metadata": {},
     "output_type": "execute_result"
    }
   ],
   "source": [
    "len(tries)"
   ]
  },
  {
   "cell_type": "code",
   "execution_count": 62,
   "metadata": {
    "collapsed": false
   },
   "outputs": [
    {
     "data": {
      "text/plain": [
       "[0, 1, 1, 0, 0, 0, 0, 0, 0, 1]"
      ]
     },
     "execution_count": 62,
     "metadata": {},
     "output_type": "execute_result"
    }
   ],
   "source": [
    "tries[0:10]"
   ]
  },
  {
   "cell_type": "code",
   "execution_count": 63,
   "metadata": {
    "collapsed": false
   },
   "outputs": [
    {
     "data": {
      "text/plain": [
       "0.00052217481"
      ]
     },
     "execution_count": 63,
     "metadata": {},
     "output_type": "execute_result"
    }
   ],
   "source": [
    "np.mean(word_model[\"dwarf\"])"
   ]
  },
  {
   "cell_type": "code",
   "execution_count": 64,
   "metadata": {
    "collapsed": false
   },
   "outputs": [
    {
     "data": {
      "text/plain": [
       "-0.0066524623"
      ]
     },
     "execution_count": 64,
     "metadata": {},
     "output_type": "execute_result"
    }
   ],
   "source": [
    "np.mean(word_model[\"dog\"])"
   ]
  },
  {
   "cell_type": "code",
   "execution_count": 65,
   "metadata": {
    "collapsed": false
   },
   "outputs": [
    {
     "data": {
      "text/plain": [
       "33612"
      ]
     },
     "execution_count": 65,
     "metadata": {},
     "output_type": "execute_result"
    }
   ],
   "source": [
    "len(word_model.vocab)"
   ]
  },
  {
   "cell_type": "code",
   "execution_count": 257,
   "metadata": {
    "collapsed": false
   },
   "outputs": [],
   "source": [
    "# %%time\n",
    "# tries = []\n",
    "# with open(TRAIN_SET) as f:\n",
    "#     next(f)\n",
    "#     for i, l in enumerate(f):\n",
    "#         [qid, q, r, aa, ab, ac, ad] = l.strip().split(\"\\t\")\n",
    "#         scores = range_answers_p(q, [aa, ab, ac, ad])\n",
    "#         guess = \"ABCD\"[scores.index(max(scores))]\n",
    "# #         print(q, aa, ab, ac, ad, scores, r, guess)\n",
    "# #         if i > 10:\n",
    "# #             break\n",
    "#         tries.append(1 if guess == r else 0)"
   ]
  },
  {
   "cell_type": "code",
   "execution_count": 258,
   "metadata": {
    "collapsed": false
   },
   "outputs": [
    {
     "name": "stderr",
     "output_type": "stream",
     "text": [
      "/data/anaconda3/lib/python3.4/site-packages/numpy/core/_methods.py:59: RuntimeWarning: Mean of empty slice.\n",
      "  warnings.warn(\"Mean of empty slice.\", RuntimeWarning)\n"
     ]
    },
    {
     "data": {
      "text/plain": [
       "nan"
      ]
     },
     "execution_count": 258,
     "metadata": {},
     "output_type": "execute_result"
    }
   ],
   "source": [
    "np.mean(tries)"
   ]
  },
  {
   "cell_type": "code",
   "execution_count": 60,
   "metadata": {
    "collapsed": true
   },
   "outputs": [],
   "source": [
    "# # export model\n",
    "# with open(\"/data/datasets/w2v_a2.tsv\", \"w\") as fo:\n",
    "#     for w in word_model.vocab:\n",
    "#         fo.write(\"%s\\t%s\\n\" % (w, \"\\t\".join(map(str, word_model[w]))))"
   ]
  },
  {
   "cell_type": "code",
   "execution_count": 259,
   "metadata": {
    "collapsed": true
   },
   "outputs": [],
   "source": [
    "VALIDATION_SET = \"/data/datasets/a2/validation_set.tsv\"\n",
    "SUBMISSION = \"/data/datasets/a2/submission.txt\""
   ]
  },
  {
   "cell_type": "code",
   "execution_count": 262,
   "metadata": {
    "collapsed": false
   },
   "outputs": [],
   "source": [
    "with open(SUBMISSION, \"w\") as s:\n",
    "    s.write(\"id,correctAnswer\\n\")\n",
    "    with open(VALIDATION_SET) as fv:\n",
    "        next(fv)\n",
    "        for l in fv:\n",
    "            [qid, q, aa, ab, ac, ad] = l.strip().split(\"\\t\")\n",
    "            scores = range_answers(q, [aa, ab, ac, ad], [word_model])\n",
    "            guess = \"ABCD\"[np.argmax(scores)]\n",
    "            s.write(\"%s,%s\\n\" % (qid, guess))"
   ]
  },
  {
   "cell_type": "code",
   "execution_count": null,
   "metadata": {
    "collapsed": true
   },
   "outputs": [],
   "source": []
  }
 ],
 "metadata": {
  "kernelspec": {
   "display_name": "Python 3",
   "language": "python",
   "name": "python3"
  },
  "language_info": {
   "codemirror_mode": {
    "name": "ipython",
    "version": 3
   },
   "file_extension": ".py",
   "mimetype": "text/x-python",
   "name": "python",
   "nbconvert_exporter": "python",
   "pygments_lexer": "ipython3",
   "version": "3.4.3"
  }
 },
 "nbformat": 4,
 "nbformat_minor": 0
}
