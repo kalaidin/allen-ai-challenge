{
 "cells": [
  {
   "cell_type": "code",
   "execution_count": 1,
   "metadata": {
    "collapsed": false
   },
   "outputs": [],
   "source": [
    "from __future__ import print_function, division, unicode_literals\n",
    "import json\n",
    "\n",
    "import pyquizlet"
   ]
  },
  {
   "cell_type": "code",
   "execution_count": 2,
   "metadata": {
    "collapsed": false
   },
   "outputs": [],
   "source": [
    "quizlet = pyquizlet.Quizlet('YC8mUCMypc')"
   ]
  },
  {
   "cell_type": "code",
   "execution_count": 3,
   "metadata": {
    "collapsed": true
   },
   "outputs": [],
   "source": [
    "#cats = ['ck-12','ck12','astronomy','biology','chemistry','physics','earth science']\n",
    "#cats = ['physicalscience','space','botany','genetics','chem','earthscience','lifescience','life science','physical science','science']\n",
    "#cats = ['geology','climate','anatomy']\n",
    "cats = ['DNA','physiology']\n"
   ]
  },
  {
   "cell_type": "code",
   "execution_count": 4,
   "metadata": {
    "collapsed": false
   },
   "outputs": [
    {
     "name": "stdout",
     "output_type": "stream",
     "text": [
      "Problem parsing response: IncompleteRead(3716 bytes read)\n",
      "IncompleteRead(3716 bytes read)\n",
      "Problem parsing response: IncompleteRead(0 bytes read)\n",
      "IncompleteRead(0 bytes read)\n",
      "Problem parsing response: IncompleteRead(0 bytes read)\n",
      "IncompleteRead(0 bytes read)\n",
      "Problem parsing response: IncompleteRead(3715 bytes read)\n",
      "IncompleteRead(3715 bytes read)\n",
      "Problem parsing response: IncompleteRead(11883 bytes read)\n",
      "IncompleteRead(11883 bytes read)\n",
      "Problem parsing response: IncompleteRead(34776 bytes read)\n",
      "IncompleteRead(34776 bytes read)\n",
      "Problem parsing response: IncompleteRead(0 bytes read)\n",
      "IncompleteRead(0 bytes read)\n",
      "Problem parsing response: IncompleteRead(3715 bytes read)\n",
      "IncompleteRead(3715 bytes read)\n",
      "Problem parsing response: IncompleteRead(0 bytes read)\n",
      "IncompleteRead(0 bytes read)\n"
     ]
    }
   ],
   "source": [
    "for cat in cats:\n",
    "    pages = quizlet.search_sets(cat)\n",
    "    with open(\"/root/data/allen-ai-challenge/quizlet/\"+cat+\".txt\", mode='w') as f:\n",
    "        for page in pages:\n",
    "            sets = page['sets']\n",
    "            for set in sets:\n",
    "                try:\n",
    "                    id = set['id']\n",
    "                    s = quizlet.get_set(id)\n",
    "                    print(json.dumps(s), file=f)\n",
    "                except Exception as ex:\n",
    "                    print(ex)"
   ]
  },
  {
   "cell_type": "code",
   "execution_count": null,
   "metadata": {
    "collapsed": true
   },
   "outputs": [],
   "source": []
  }
 ],
 "metadata": {
  "kernelspec": {
   "display_name": "Python 2",
   "language": "python",
   "name": "python2"
  },
  "language_info": {
   "codemirror_mode": {
    "name": "ipython",
    "version": 2
   },
   "file_extension": ".py",
   "mimetype": "text/x-python",
   "name": "python",
   "nbconvert_exporter": "python",
   "pygments_lexer": "ipython2",
   "version": "2.7.6"
  }
 },
 "nbformat": 4,
 "nbformat_minor": 0
}
