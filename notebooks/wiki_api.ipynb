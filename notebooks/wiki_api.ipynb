{
 "cells": [
  {
   "cell_type": "code",
   "execution_count": 1,
   "metadata": {
    "collapsed": false
   },
   "outputs": [],
   "source": [
    "import json\n",
    "import wikipedia\n",
    "from collections import namedtuple\n",
    "import re\n",
    "from os.path import join\n",
    "import os\n",
    "import json\n",
    "import wikiapi"
   ]
  },
  {
   "cell_type": "code",
   "execution_count": 2,
   "metadata": {
    "collapsed": false
   },
   "outputs": [],
   "source": [
    "DATA_DIR = join(os.environ['HOME'], 'data/allen-ai-challenge')"
   ]
  },
  {
   "cell_type": "code",
   "execution_count": 3,
   "metadata": {
    "collapsed": true
   },
   "outputs": [],
   "source": [
    "article = namedtuple(\"Article\", \"heading summary content\")"
   ]
  },
  {
   "cell_type": "code",
   "execution_count": 6,
   "metadata": {
    "collapsed": false
   },
   "outputs": [],
   "source": [
    "wiki_api = wikiapi.WikiApi()"
   ]
  },
  {
   "cell_type": "code",
   "execution_count": 7,
   "metadata": {
    "collapsed": true
   },
   "outputs": [],
   "source": [
    "science_pages = join(DATA_DIR, 'wiki_subset')"
   ]
  },
  {
   "cell_type": "code",
   "execution_count": 8,
   "metadata": {
    "collapsed": true
   },
   "outputs": [],
   "source": [
    "def get_page(api, title):\n",
    "    res = api.get_article(title)\n",
    "    return article(res.heading, res.summary, res.content)"
   ]
  },
  {
   "cell_type": "code",
   "execution_count": 9,
   "metadata": {
    "collapsed": true
   },
   "outputs": [],
   "source": [
    "# path_to_store = \"/Users/Pavel/Code/allen-ai-challenge/data/wiki_dump\""
   ]
  },
  {
   "cell_type": "code",
   "execution_count": 10,
   "metadata": {
    "collapsed": false,
    "scrolled": false
   },
   "outputs": [],
   "source": [
    "# %%time\n",
    "# with open(science_pages) as f:\n",
    "#     for i, l in enumerate(f):\n",
    "#         if i < 11400:\n",
    "#             continue\n",
    "#         topic = l.strip()\n",
    "#         page = get_page(wiki_api, topic)\n",
    "#         s = re.sub(r'[^\\w\\s]', '', topic).replace(\"/\", \"\")\n",
    "#         page_file = \"%s/%s.json\" % (path_to_store, topic.replace(\" \", \"_\"))\n",
    "#         try:\n",
    "#             json.dump(page, open(page_file, \"w\", encoding=\"utf-8\"))\n",
    "#         except:\n",
    "#             print(topic)\n",
    "#         if i % 100 == 0:\n",
    "#             print(i)"
   ]
  },
  {
   "cell_type": "code",
   "execution_count": 11,
   "metadata": {
    "collapsed": false
   },
   "outputs": [],
   "source": [
    "def iter_concepts():\n",
    "    with open(join(DATA_DIR, 'concepts.json')) as f:\n",
    "        for l in f:\n",
    "            [r] = json.loads(l)\n",
    "            for c in r:\n",
    "                yield c.lower().replace(\"-\", \" \")"
   ]
  },
  {
   "cell_type": "code",
   "execution_count": 21,
   "metadata": {
    "collapsed": false
   },
   "outputs": [],
   "source": [
    "def iter_wiki():\n",
    "    for x in iter_concepts():\n",
    "        for rel in wikipedia.search(x, 10):\n",
    "            try:\n",
    "                page = wikipedia.page(rel)\n",
    "                yield [page.title, page.summary, page.content]\n",
    "            except:\n",
    "                pass"
   ]
  },
  {
   "cell_type": "code",
   "execution_count": 22,
   "metadata": {
    "collapsed": true
   },
   "outputs": [],
   "source": [
    "import codecs"
   ]
  },
  {
   "cell_type": "code",
   "execution_count": null,
   "metadata": {
    "collapsed": false
   },
   "outputs": [
    {
     "name": "stdout",
     "output_type": "stream",
     "text": [
      "0\n",
      "100\n",
      "200\n",
      "300\n",
      "400\n",
      "500\n",
      "600\n",
      "700\n",
      "800\n",
      "900\n",
      "1000"
     ]
    }
   ],
   "source": [
    "%%time\n",
    "for i, t in enumerate(iter_wiki()):\n",
    "    if i < 800:\n",
    "        continue\n",
    "    page_file = \"%s/%s.json\" % (science_pages, t[0].replace(\" \", \"_\").replace(\"//\", \"\"))\n",
    "    try:\n",
    "        json.dump(t, codecs.open(page_file, \"w\", encoding=\"utf-8\"))\n",
    "    except:\n",
    "        pass\n",
    "    if i % 100 == 0:\n",
    "        print(i)"
   ]
  },
  {
   "cell_type": "code",
   "execution_count": null,
   "metadata": {
    "collapsed": true
   },
   "outputs": [],
   "source": [
    "import telepot\n",
    "def telegram_notify(msg):\n",
    "    token = \"178350795:AAFG7yae2SSt52GLek2bKS43oK7BaywWxRw\"\n",
    "    bot = telepot.Bot(token)\n",
    "    b = bot.getMe()\n",
    "    response = bot.getUpdates()\n",
    "    bot.sendMessage(31747780, msg)"
   ]
  },
  {
   "cell_type": "code",
   "execution_count": null,
   "metadata": {
    "collapsed": true
   },
   "outputs": [],
   "source": [
    "telegram_notify(\"wiki\")"
   ]
  },
  {
   "cell_type": "code",
   "execution_count": null,
   "metadata": {
    "collapsed": true
   },
   "outputs": [],
   "source": []
  }
 ],
 "metadata": {
  "kernelspec": {
   "display_name": "Python 2",
   "language": "python",
   "name": "python2"
  },
  "language_info": {
   "codemirror_mode": {
    "name": "ipython",
    "version": 2
   },
   "file_extension": ".py",
   "mimetype": "text/x-python",
   "name": "python",
   "nbconvert_exporter": "python",
   "pygments_lexer": "ipython2",
   "version": "2.7.11"
  }
 },
 "nbformat": 4,
 "nbformat_minor": 0
}
