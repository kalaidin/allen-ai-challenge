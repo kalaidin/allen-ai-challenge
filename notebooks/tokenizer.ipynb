{
 "cells": [
  {
   "cell_type": "code",
   "execution_count": 13,
   "metadata": {
    "collapsed": true
   },
   "outputs": [],
   "source": [
    "import re"
   ]
  },
  {
   "cell_type": "code",
   "execution_count": 34,
   "metadata": {
    "collapsed": false
   },
   "outputs": [],
   "source": [
    "s = StanfordTokenizer(\"/Users/Pavel/Code/stanford-postagger-2015-12-09/stanford-postagger.jar\")"
   ]
  },
  {
   "cell_type": "code",
   "execution_count": 38,
   "metadata": {
    "collapsed": false
   },
   "outputs": [],
   "source": [
    "from nltk import word_tokenize"
   ]
  },
  {
   "cell_type": "code",
   "execution_count": 40,
   "metadata": {
    "collapsed": true
   },
   "outputs": [],
   "source": [
    "DATA = \"/Users/Pavel/Code/allen-ai-challenge/data/ck12_clean.txt\""
   ]
  },
  {
   "cell_type": "code",
   "execution_count": 49,
   "metadata": {
    "collapsed": true
   },
   "outputs": [],
   "source": [
    "def parse_text(t):\n",
    "    r = word_tokenize(t.lower())\n",
    "    return r\n",
    "\n",
    "def parse_sentence(line):\n",
    "    return [parse_text(s) for s in nltk.sent_tokenize(line)]"
   ]
  },
  {
   "cell_type": "code",
   "execution_count": 52,
   "metadata": {
    "collapsed": true
   },
   "outputs": [],
   "source": [
    "def iter_lines(fname):\n",
    "    with open(fname, encoding=\"utf-8\") as f:\n",
    "        for l in f:\n",
    "            yield from parse_sentence(l)"
   ]
  },
  {
   "cell_type": "code",
   "execution_count": 53,
   "metadata": {
    "collapsed": false
   },
   "outputs": [
    {
     "name": "stdout",
     "output_type": "stream",
     "text": [
      "['scientifically', ',', 'there', 'is', 'an', 'actual', 'definition', 'of', 'living', '.']\n"
     ]
    }
   ],
   "source": [
    "# for r in iter_lines(DATA):\n",
    "#     print(r)\n",
    "#     break"
   ]
  },
  {
   "cell_type": "code",
   "execution_count": 58,
   "metadata": {
    "collapsed": false
   },
   "outputs": [
    {
     "name": "stdout",
     "output_type": "stream",
     "text": [
      "CPU times: user 20.9 s, sys: 118 ms, total: 21.1 s\n",
      "Wall time: 21.8 s\n"
     ]
    }
   ],
   "source": [
    "%%time\n",
    "with open(\"/Users/Pavel/Code/allen-ai-challenge/data/ck12_tokens.txt\", \"w\", encoding=\"utf-8\") as fo:\n",
    "    for i, t in enumerate(iter_lines(DATA)):\n",
    "        print(\" \".join(t), file=fo)"
   ]
  },
  {
   "cell_type": "code",
   "execution_count": null,
   "metadata": {
    "collapsed": true
   },
   "outputs": [],
   "source": []
  }
 ],
 "metadata": {
  "kernelspec": {
   "display_name": "Python 3",
   "language": "python",
   "name": "python3"
  },
  "language_info": {
   "codemirror_mode": {
    "name": "ipython",
    "version": 3
   },
   "file_extension": ".py",
   "mimetype": "text/x-python",
   "name": "python",
   "nbconvert_exporter": "python",
   "pygments_lexer": "ipython3",
   "version": "3.3.5"
  }
 },
 "nbformat": 4,
 "nbformat_minor": 0
}
