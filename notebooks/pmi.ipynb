{
 "cells": [
  {
   "cell_type": "code",
   "execution_count": 1,
   "metadata": {
    "collapsed": true
   },
   "outputs": [],
   "source": [
    "import nltk\n",
    "import codecs\n",
    "from nltk.stem import SnowballStemmer\n",
    "stemmer = SnowballStemmer(\"english\")"
   ]
  },
  {
   "cell_type": "code",
   "execution_count": 2,
   "metadata": {
    "collapsed": true
   },
   "outputs": [],
   "source": [
    "import os\n",
    "from os.path import join\n",
    "from nltk.corpus import stopwords\n",
    "stopwords = set(stopwords.words('english') + '. , ! ? ; - : —'.split())"
   ]
  },
  {
   "cell_type": "code",
   "execution_count": 3,
   "metadata": {
    "collapsed": true
   },
   "outputs": [],
   "source": [
    "DATA_DIR = join(os.environ['HOME'], 'data/allen-ai-challenge')"
   ]
  },
  {
   "cell_type": "code",
   "execution_count": 4,
   "metadata": {
    "collapsed": true
   },
   "outputs": [],
   "source": [
    "CORPUS = join(DATA_DIR, \"ck12.txt\")\n",
    "WIKI_DIR = join(DATA_DIR, 'wiki_dump')"
   ]
  },
  {
   "cell_type": "code",
   "execution_count": 5,
   "metadata": {
    "collapsed": true
   },
   "outputs": [],
   "source": [
    "def tokenize(text):\n",
    "    return [stemmer.stem(w) for w in nltk.word_tokenize(text.lower()) if w not in stopwords]"
   ]
  },
  {
   "cell_type": "code",
   "execution_count": 6,
   "metadata": {
    "collapsed": true
   },
   "outputs": [],
   "source": [
    "import json"
   ]
  },
  {
   "cell_type": "code",
   "execution_count": 7,
   "metadata": {
    "collapsed": true
   },
   "outputs": [],
   "source": [
    "text = \"\""
   ]
  },
  {
   "cell_type": "code",
   "execution_count": 8,
   "metadata": {
    "collapsed": false
   },
   "outputs": [],
   "source": [
    "for i, fn_short in enumerate(os.listdir(WIKI_DIR)):\n",
    "    fn = join(WIKI_DIR, fn_short)\n",
    "    with codecs.open(fn, encoding='utf-8', errors='ignore') as f:\n",
    "        wiki_article = json.load(f)\n",
    "        _, summary, content = wiki_article\n",
    "        text += summary + \" \" + content"
   ]
  },
  {
   "cell_type": "code",
   "execution_count": 9,
   "metadata": {
    "collapsed": false
   },
   "outputs": [
    {
     "data": {
      "text/plain": [
       "102542121"
      ]
     },
     "execution_count": 9,
     "metadata": {},
     "output_type": "execute_result"
    }
   ],
   "source": [
    "len(text)"
   ]
  },
  {
   "cell_type": "code",
   "execution_count": 10,
   "metadata": {
    "collapsed": true
   },
   "outputs": [],
   "source": [
    "import telepot\n",
    "def telegram_notify(msg):\n",
    "    token = \"178350795:AAFG7yae2SSt52GLek2bKS43oK7BaywWxRw\"\n",
    "    bot = telepot.Bot(token)\n",
    "    b = bot.getMe()\n",
    "    response = bot.getUpdates()\n",
    "    bot.sendMessage(31747780, msg)"
   ]
  },
  {
   "cell_type": "code",
   "execution_count": 11,
   "metadata": {
    "collapsed": true
   },
   "outputs": [],
   "source": [
    "telegram_notify(\"read\")"
   ]
  },
  {
   "cell_type": "code",
   "execution_count": 31,
   "metadata": {
    "collapsed": false
   },
   "outputs": [],
   "source": [
    "def iter_corpus():\n",
    "    with codecs.open(CORPUS, encoding=\"utf-8\") as f:\n",
    "        for l in f:\n",
    "            yield [stemmer.stem(w) for w in nltk.word_tokenize(l.lower()) if w not in stopwords]"
   ]
  },
  {
   "cell_type": "code",
   "execution_count": 12,
   "metadata": {
    "collapsed": false
   },
   "outputs": [
    {
     "data": {
      "text/plain": [
       "102542121"
      ]
     },
     "execution_count": 12,
     "metadata": {},
     "output_type": "execute_result"
    }
   ],
   "source": [
    "len(text)"
   ]
  },
  {
   "cell_type": "code",
   "execution_count": 13,
   "metadata": {
    "collapsed": false
   },
   "outputs": [],
   "source": [
    "import nltk\n",
    "from nltk.collocations import *\n",
    "from nltk.tokenize import word_tokenize, sent_tokenize\n",
    "\n",
    "# text = codecs.open(CORPUS, encoding=\"utf-8\").read()"
   ]
  },
  {
   "cell_type": "code",
   "execution_count": 14,
   "metadata": {
    "collapsed": true
   },
   "outputs": [],
   "source": [
    "# trigram_measures = nltk.collocations.TrigramAssocMeasures()\n",
    "# t_finder = TrigramCollocationFinder.from_words(tokenize(text))"
   ]
  },
  {
   "cell_type": "code",
   "execution_count": 19,
   "metadata": {
    "collapsed": false
   },
   "outputs": [
    {
     "name": "stdout",
     "output_type": "stream",
     "text": [
      "CPU times: user 6min 18s, sys: 7.06 s, total: 6min 25s\n",
      "Wall time: 6min 31s\n"
     ]
    }
   ],
   "source": [
    "%%time\n",
    "bigram_measures = nltk.collocations.BigramAssocMeasures()\n",
    "b_finder = BigramCollocationFinder.from_words(tokenize(text))"
   ]
  },
  {
   "cell_type": "code",
   "execution_count": 20,
   "metadata": {
    "collapsed": true
   },
   "outputs": [],
   "source": [
    "telegram_notify(\"bg\")"
   ]
  },
  {
   "cell_type": "code",
   "execution_count": 21,
   "metadata": {
    "collapsed": true
   },
   "outputs": [],
   "source": [
    "pmi_scores = {}"
   ]
  },
  {
   "cell_type": "code",
   "execution_count": 22,
   "metadata": {
    "collapsed": false
   },
   "outputs": [],
   "source": [
    "b_finder.apply_freq_filter(3)"
   ]
  },
  {
   "cell_type": "code",
   "execution_count": 23,
   "metadata": {
    "collapsed": false
   },
   "outputs": [
    {
     "name": "stdout",
     "output_type": "stream",
     "text": [
      "CPU times: user 6.44 s, sys: 92.4 ms, total: 6.54 s\n",
      "Wall time: 6.71 s\n"
     ]
    }
   ],
   "source": [
    "%%time\n",
    "for i, t in enumerate(b_finder.score_ngrams(bigram_measures.pmi)):\n",
    "    pmi_scores[t[0]] = t[1]"
   ]
  },
  {
   "cell_type": "code",
   "execution_count": 24,
   "metadata": {
    "collapsed": false
   },
   "outputs": [
    {
     "data": {
      "text/plain": [
       "679699"
      ]
     },
     "execution_count": 24,
     "metadata": {},
     "output_type": "execute_result"
    }
   ],
   "source": [
    "len(pmi_scores)"
   ]
  },
  {
   "cell_type": "code",
   "execution_count": 25,
   "metadata": {
    "collapsed": true
   },
   "outputs": [],
   "source": [
    "DATA_DIR = join(os.environ['HOME'], 'data/allen-ai-challenge')"
   ]
  },
  {
   "cell_type": "code",
   "execution_count": 26,
   "metadata": {
    "collapsed": true
   },
   "outputs": [],
   "source": [
    "TRAINING_SET = join(DATA_DIR, 'training_set.tsv')"
   ]
  },
  {
   "cell_type": "code",
   "execution_count": 27,
   "metadata": {
    "collapsed": false
   },
   "outputs": [
    {
     "name": "stdout",
     "output_type": "stream",
     "text": [
      "(u'thought', u'sever')\n"
     ]
    }
   ],
   "source": [
    "for x in pmi_scores:\n",
    "    print(x)\n",
    "    break"
   ]
  },
  {
   "cell_type": "code",
   "execution_count": 28,
   "metadata": {
    "collapsed": false
   },
   "outputs": [
    {
     "ename": "KeyError",
     "evalue": "('a', 'b')",
     "output_type": "error",
     "traceback": [
      "\u001b[0;31m---------------------------------------------------------------------------\u001b[0m",
      "\u001b[0;31mKeyError\u001b[0m                                  Traceback (most recent call last)",
      "\u001b[0;32m<ipython-input-28-d78e017a9bdd>\u001b[0m in \u001b[0;36m<module>\u001b[0;34m()\u001b[0m\n\u001b[0;32m----> 1\u001b[0;31m \u001b[0mpmi_scores\u001b[0m\u001b[0;34m[\u001b[0m\u001b[0;34m(\u001b[0m\u001b[0;34m\"a\"\u001b[0m\u001b[0;34m,\u001b[0m \u001b[0;34m\"b\"\u001b[0m\u001b[0;34m)\u001b[0m\u001b[0;34m]\u001b[0m\u001b[0;34m\u001b[0m\u001b[0m\n\u001b[0m",
      "\u001b[0;31mKeyError\u001b[0m: ('a', 'b')"
     ]
    }
   ],
   "source": [
    "pmi_scores[(\"a\", \"b\")]"
   ]
  },
  {
   "cell_type": "code",
   "execution_count": 29,
   "metadata": {
    "collapsed": false
   },
   "outputs": [
    {
     "data": {
      "text/plain": [
       "679699"
      ]
     },
     "execution_count": 29,
     "metadata": {},
     "output_type": "execute_result"
    }
   ],
   "source": [
    "len(pmi_scores)"
   ]
  },
  {
   "cell_type": "code",
   "execution_count": 30,
   "metadata": {
    "collapsed": true
   },
   "outputs": [],
   "source": [
    "def iter_data(datafile, with_correct=True):\n",
    "    with codecs.open(datafile, encoding='utf-8', errors='ignore') as f:\n",
    "        next(f)\n",
    "        for l in f:\n",
    "            if with_correct:\n",
    "                idd, q, correct, aa, ab, ac, ad = l.strip().split(\"\\t\")\n",
    "            else:\n",
    "                idd, q, aa, ab, ac, ad = l.strip().split(\"\\t\")\n",
    "                correct = \"no\"\n",
    "            q, aa, ab, ac, ad = [' '.join(tokenize(x)) for x in [q, aa, ab, ac, ad]]\n",
    "            yield {\"idd\": idd, \"q\": q, \"correct\": correct, \"aa\": aa, \"ab\": ab, \"ac\": ac, \"ad\": ad}"
   ]
  },
  {
   "cell_type": "code",
   "execution_count": 34,
   "metadata": {
    "collapsed": false
   },
   "outputs": [
    {
     "name": "stdout",
     "output_type": "stream",
     "text": [
      "(u'thought', u'sever')\n"
     ]
    }
   ],
   "source": [
    "for x in pmi_scores:\n",
    "    print(x)\n",
    "    break"
   ]
  },
  {
   "cell_type": "code",
   "execution_count": 35,
   "metadata": {
    "collapsed": false
   },
   "outputs": [
    {
     "ename": "KeyError",
     "evalue": "('level', 'body')",
     "output_type": "error",
     "traceback": [
      "\u001b[0;31m---------------------------------------------------------------------------\u001b[0m",
      "\u001b[0;31mKeyError\u001b[0m                                  Traceback (most recent call last)",
      "\u001b[0;32m<ipython-input-35-69f4783a4146>\u001b[0m in \u001b[0;36m<module>\u001b[0;34m()\u001b[0m\n\u001b[0;32m----> 1\u001b[0;31m \u001b[0mpmi_scores\u001b[0m\u001b[0;34m[\u001b[0m\u001b[0;34m(\u001b[0m\u001b[0;34m'level'\u001b[0m\u001b[0;34m,\u001b[0m \u001b[0;34m'body'\u001b[0m\u001b[0;34m)\u001b[0m\u001b[0;34m]\u001b[0m\u001b[0;34m\u001b[0m\u001b[0m\n\u001b[0m",
      "\u001b[0;31mKeyError\u001b[0m: ('level', 'body')"
     ]
    }
   ],
   "source": [
    "pmi_scores[('level', 'body')]"
   ]
  },
  {
   "cell_type": "code",
   "execution_count": 31,
   "metadata": {
    "collapsed": true
   },
   "outputs": [],
   "source": [
    "import numpy as np"
   ]
  },
  {
   "cell_type": "code",
   "execution_count": 33,
   "metadata": {
    "collapsed": false
   },
   "outputs": [
    {
     "name": "stdout",
     "output_type": "stream",
     "text": [
      "nan\n",
      "nan\n",
      "nan\n",
      "nan\n",
      "(u'athlet begin exercis heart rate respir rate increas level organ human bodi coordin function', u'C', [u'tissu level', u'organ level', u'system level', u'cellular level'], nan)\n",
      "nan\n",
      "nan\n",
      "nan\n",
      "nan\n",
      "(u'exampl describ learn behavior dog', u'C', [u'smell air odor', u'bark disturb', u'sit command', u'dig soil'], nan)\n",
      "nan\n",
      "nan\n",
      "nan\n",
      "nan\n",
      "(u'two nuclei combin one nucleus slight chang mass releas larg amount energi process call', u'D', [u'convers', u'reaction', u'fission', u'fusion'], nan)\n",
      "nan\n",
      "nan\n",
      "nan\n",
      "nan\n",
      "(u'distinct epidem pandem', u'B', [u'symptom diseas', u'geograph area affect', u'speci organ infect', u'season diseas spread'], nan)\n",
      "nan\n",
      "nan\n",
      "nan\n",
      "nan\n",
      "(u'way orbit comet differ orbit earth', u'B', [u'orbit earth less circular orbit comet', u'orbit comet ellipt orbit earth', u'orbit period earth much longer orbit period comet', u'orbit period comet predict orbit period earth'], nan)\n",
      "nan\n",
      "nan\n",
      "nan\n",
      "nan\n",
      "(u'teacher build model hydrogen atom red golf ball use proton green golf ball use electron accur concern model', u'B', [u'number particl', u'relat mass particl', u'type particl present', u'charg particl present'], nan)\n",
      "nan\n",
      "nan\n",
      "nan\n",
      "nan\n",
      "(u'substanc student appli skin get splash acid', u'A', [u'water', u'vinegar', u'salt', u'formaldehyd'], nan)\n",
      "nan\n",
      "nan\n",
      "nan\n",
      "nan\n",
      "(u'main sourc energi water cycl', u'A', [u'sun', u'fossil fuel', u'cloud', u'ocean'], nan)\n",
      "nan\n",
      "nan\n",
      "nan\n",
      "nan\n",
      "(u'greatest effect aid movement blood human bodi', u'D', [u'tension', u'friction', u'densiti', u'graviti'], nan)\n",
      "nan\n",
      "nan\n",
      "nan\n",
      "nan\n",
      "(u'time non-volcan mountain form due interact plate boundari interact like associ format non-volcan mountain', u'C', [u'ocean plate collid ocean plate', u'ocean plate separ ocean plate', u'continent plate collid continent plate', u'continent plate separ continent plate'], nan)\n",
      "nan\n",
      "nan\n",
      "nan\n",
      "nan\n",
      "(u'human bodi averag normal temperatur 98.6\\xb0f keep core bodi temperatur becom high brain send signal bodi', u'D', [u'decreas sugar level blood', u'increas sugar level blood', u'decreas blood flow skin', u'increas blood flow skin'], nan)\n",
      "nan\n",
      "nan\n",
      "nan\n",
      "nan\n",
      "(u'best explan term ecolog', u'D', [u'studi nonliv part environ', u'studi live part environ', u'studi protect renew natur resourc', u'studi organ interact environ'], nan)\n"
     ]
    }
   ],
   "source": [
    "tries = []\n",
    "for i, row in enumerate(iter_data(TRAINING_SET)):\n",
    "    answers = [row['aa'], row['ab'], row['ac'], row['ad']]\n",
    "    q = row[\"q\"]\n",
    "    correct = row[\"correct\"]\n",
    "    scores = []\n",
    "    for a in answers:\n",
    "        pmis = []\n",
    "        for wa in a.split():\n",
    "            for wq in q.split():\n",
    "                bg = (wa, wq)\n",
    "                if bg in pmis:\n",
    "                    pmis.append(pmi_scores[bg])\n",
    "        scores = np.mean(pmis)\n",
    "        print(scores)\n",
    "    tries.append(\"ABCD\"[np.argmax(scores)] == correct)\n",
    "    print(q, correct, answers, scores)\n",
    "    if i > 10:\n",
    "        break"
   ]
  },
  {
   "cell_type": "code",
   "execution_count": 142,
   "metadata": {
    "collapsed": false
   },
   "outputs": [
    {
     "data": {
      "text/plain": [
       "0.2336"
      ]
     },
     "execution_count": 142,
     "metadata": {},
     "output_type": "execute_result"
    }
   ],
   "source": [
    "np.mean(tries)"
   ]
  },
  {
   "cell_type": "code",
   "execution_count": null,
   "metadata": {
    "collapsed": true
   },
   "outputs": [],
   "source": []
  }
 ],
 "metadata": {
  "kernelspec": {
   "display_name": "Python 2",
   "language": "python",
   "name": "python2"
  },
  "language_info": {
   "codemirror_mode": {
    "name": "ipython",
    "version": 2
   },
   "file_extension": ".py",
   "mimetype": "text/x-python",
   "name": "python",
   "nbconvert_exporter": "python",
   "pygments_lexer": "ipython2",
   "version": "2.7.11"
  }
 },
 "nbformat": 4,
 "nbformat_minor": 0
}
