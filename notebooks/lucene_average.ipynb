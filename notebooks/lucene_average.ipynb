{
 "cells": [
  {
   "cell_type": "code",
   "execution_count": 259,
   "metadata": {
    "collapsed": true
   },
   "outputs": [],
   "source": [
    "from __future__ import print_function, division, unicode_literals\n",
    "import six\n",
    "import os\n",
    "from os.path import join\n",
    "import json\n",
    "from codecs import open\n",
    "from collections import defaultdict\n",
    "from operator import itemgetter\n",
    "import nltk\n",
    "import numpy as np\n",
    "from nltk.corpus import stopwords\n",
    "import re\n",
    "import codecs\n",
    "\n",
    "from sklearn.cross_validation import KFold"
   ]
  },
  {
   "cell_type": "code",
   "execution_count": 324,
   "metadata": {
    "collapsed": true
   },
   "outputs": [],
   "source": [
    "DATA_DIR = join(os.environ['HOME'], 'data/allen-ai-challenge')\n",
    "# LUCENE_FILE = join(DATA_DIR, 'features', 'lucene_vecs10.tsv')\n",
    "LUCENE_FILE = join(DATA_DIR, 'features', 'lucene_vecs10_submission.tsv')\n",
    "W2V_FILE = join(DATA_DIR, 'features', 'w2f_validate.tsv')\n",
    "# W2V_FILE = join(DATA_DIR, 'features', 'w2f.tsv')\n",
    "SUMBISSION_FILE = join(DATA_DIR, 'submissions', 'weights.csv')"
   ]
  },
  {
   "cell_type": "code",
   "execution_count": 325,
   "metadata": {
    "collapsed": true
   },
   "outputs": [],
   "source": [
    "import theano\n",
    "import theano.tensor as T"
   ]
  },
  {
   "cell_type": "code",
   "execution_count": 326,
   "metadata": {
    "collapsed": false
   },
   "outputs": [],
   "source": [
    "all_x = []\n",
    "all_y = []\n",
    "all_qid = []\n",
    "with open(LUCENE_FILE, encoding='utf8') as f:\n",
    "    for row in (line.strip().split('\\t') for line in f):\n",
    "        all_qid.append(row[0])\n",
    "        correct = row[1]\n",
    "        vecs = np.vstack([np.fromstring(r, sep=';') for r in row[2:6]])\n",
    "        \n",
    "        all_x.append(vecs)\n",
    "        y_vec = np.zeros(4, dtype=int)\n",
    "        if correct in 'ABCD':\n",
    "             y_vec['ABCD'.index(correct)] = 1\n",
    "        all_y.append(y_vec)\n",
    "all_x = np.array(all_x)\n",
    "all_y = np.array(all_y)\n",
    "\n",
    "\n",
    "W2V = []\n",
    "with open(W2V_FILE, encoding='utf8') as f:\n",
    "    for row in (line.strip().split('\\t') for line in f):\n",
    "        qid = row[0]\n",
    "        w2v = np.array([float(w) for w in row[3:7]])\n",
    "        W2V.append(w2v)\n",
    "W2V = np.array(W2V)\n"
   ]
  },
  {
   "cell_type": "code",
   "execution_count": 327,
   "metadata": {
    "collapsed": false
   },
   "outputs": [
    {
     "name": "stdout",
     "output_type": "stream",
     "text": [
      "(8132, 4, 10)\n",
      "(8132, 4)\n"
     ]
    }
   ],
   "source": [
    "idx_train, idx_valid = next(iter(KFold(all_x.shape[0], 10, shuffle=True)))\n",
    "print(all_x.shape)\n",
    "print(W2V.shape)"
   ]
  },
  {
   "cell_type": "code",
   "execution_count": 321,
   "metadata": {
    "collapsed": false
   },
   "outputs": [],
   "source": [
    "import lasagne\n",
    "D = all_x.shape[2]\n",
    "\n",
    "lin = lasagne.layers.InputLayer((None, D))\n",
    "n = lasagne.layers.DenseLayer(lin, 1, W=lasagne.init.Constant(1), b=None, nonlinearity=lasagne.nonlinearities.elu)\n",
    "n = lasagne.layers.ReshapeLayer(n, (-1, 4))\n",
    "n = lasagne.layers.DenseLayer(n, 4, nonlinearity=lasagne.nonlinearities.softmax)\n",
    "output = lasagne.layers.get_output(n)\n",
    "params = lasagne.layers.get_all_params(n)\n",
    "\n",
    "var_targets = T.imatrix()\n",
    "t_nll = lasagne.objectives.categorical_crossentropy(output, var_targets).mean()\n",
    "t_acc = lasagne.objectives.categorical_accuracy(output, var_targets).mean()\n",
    "updates = lasagne.updates.adam(t_nll, params)\n",
    "\n",
    "train_fn = theano.function([lin.input_var, var_targets], t_nll, updates=updates)\n",
    "cost_fn = theano.function([lin.input_var, var_targets], t_nll)\n",
    "acc_fn = theano.function([lin.input_var, var_targets], t_acc)\n",
    "forward_fn = theano.function([lin.input_var], output)"
   ]
  },
  {
   "cell_type": "code",
   "execution_count": 322,
   "metadata": {
    "collapsed": false,
    "scrolled": true
   },
   "outputs": [
    {
     "name": "stdout",
     "output_type": "stream",
     "text": [
      "0 17.2916406148 0.268\n",
      "1 13.1499603825 0.256\n",
      "2 7.61889781886 0.312\n",
      "3 6.03041910125 0.264\n",
      "4 5.15571808975 0.324\n",
      "5 4.71106213386 0.276\n",
      "6 4.72831687582 0.232\n",
      "7 4.45231680088 0.284\n",
      "8 4.44721931681 0.26\n",
      "9 4.35181475437 0.256\n",
      "10 3.85991754967 0.252\n",
      "11 3.88963293057 0.264\n",
      "12 3.7438041262 0.24\n",
      "13 3.65417397382 0.256\n",
      "14 3.51540393906 0.236\n",
      "15 3.17234705819 0.268\n",
      "16 2.98123262204 0.272\n",
      "17 2.92512431018 0.248\n",
      "18 2.71557414135 0.28\n",
      "19 2.71568380625 0.284\n",
      "20 2.56966616348 0.252\n",
      "21 2.41766397523 0.264\n",
      "22 2.20391710301 0.264\n",
      "23 2.1008605649 0.284\n",
      "24 2.09017455125 0.268\n",
      "25 2.07286701913 0.256\n",
      "26 1.94620630225 0.24\n",
      "27 1.89018009233 0.272\n",
      "28 1.78389778776 0.264\n",
      "29 1.63572839541 0.28\n",
      "30 1.61698301888 0.304\n",
      "31 1.63979773489 0.232\n",
      "32 1.56991281193 0.236\n",
      "33 1.53647131419 0.244\n",
      "34 1.48595666583 0.308\n",
      "35 1.47747784817 0.252\n",
      "36 1.44066229467 0.28\n",
      "37 1.41440299569 0.252\n",
      "38 1.39950350571 0.316\n",
      "39 1.37970536869 0.292\n",
      "40 1.42288181128 0.216\n",
      "41 1.39013872368 0.272\n",
      "42 1.37555656449 0.3\n",
      "43 1.37583983408 0.276\n",
      "44 1.39945300797 0.244\n",
      "45 1.36968466807 0.276\n",
      "46 1.36239351202 0.36\n",
      "47 1.38538754769 0.268\n",
      "48 1.37112108385 0.288\n",
      "49 1.37255197402 0.3\n",
      "50 1.37984675214 0.3\n",
      "51 1.37606245284 0.284\n",
      "52 1.3760930788 0.288\n",
      "53 1.37824906481 0.312\n",
      "54 1.3807976832 0.284\n",
      "55 1.38745129289 0.272\n",
      "56 1.37012046694 0.316\n",
      "57 1.38150952893 0.296\n",
      "58 1.37750896626 0.264\n",
      "59 1.38291773729 0.248\n",
      "60 1.3765963607 0.28\n",
      "61 1.38409643437 0.252\n",
      "62 1.37088932849 0.272\n",
      "63 1.38155856784 0.268\n",
      "64 1.37708469229 0.284\n",
      "65 1.37906549517 0.32\n",
      "66 1.37454959718 0.296\n",
      "67 1.38377439604 0.24\n",
      "68 1.38318340638 0.26\n",
      "69 1.37455213076 0.248\n",
      "70 1.38420894096 0.284\n",
      "71 1.38618542348 0.268\n",
      "72 1.39140658614 0.252\n",
      "73 1.36786894012 0.296\n",
      "74 1.39333423826 0.228\n",
      "75 1.37094922785 0.308\n",
      "76 1.36269647613 0.32\n",
      "77 1.37570689393 0.268\n",
      "78 1.3779706939 0.252\n",
      "79 1.3692735768 0.288\n",
      "80 1.38564399107 0.276\n",
      "81 1.37694843676 0.288\n",
      "82 1.36270645796 0.276\n",
      "83 1.38092026638 0.272\n",
      "84 1.3844063932 0.268\n",
      "85 1.36468485729 0.312\n",
      "86 1.36788454556 0.296\n",
      "87 1.37357679862 0.264\n",
      "88 1.38306172379 0.288\n",
      "89 1.3860128328 0.252\n",
      "90 1.37137885712 0.3\n",
      "91 1.3873380299 0.216\n",
      "92 1.38130258814 0.28\n",
      "93 1.37950824633 0.296\n",
      "94 1.36707827565 0.332\n",
      "95 1.38784743149 0.236\n",
      "96 1.36015395091 0.316\n",
      "97 1.36787254135 0.328\n",
      "98 1.37475587323 0.256\n",
      "99 1.36776593083 0.292\n",
      "100 1.36707846338 0.312\n",
      "101 1.37546105644 0.284\n",
      "102 1.38329898062 0.284\n",
      "103 1.37360463177 0.312\n",
      "104 1.36378807795 0.332\n",
      "105 1.3808243249 0.264\n",
      "106 1.36781360119 0.296\n",
      "107 1.35880022828 0.312\n",
      "108 1.36718648592 0.292\n",
      "109 1.35650175867 0.308\n",
      "110 1.36680093665 0.28\n",
      "111 1.36595535678 0.308\n",
      "112 1.34794353992 0.328\n",
      "113 1.36893007585 0.28\n",
      "114 1.37247699567 0.292\n",
      "115 1.35823566991 0.288\n",
      "116 1.35944115389 0.296\n",
      "117 1.37091662582 0.284\n",
      "118 1.34351304852 0.328\n",
      "119 1.3666981273 0.296\n",
      "120 1.35638506134 0.324\n",
      "121 1.34701102602 0.308\n",
      "122 1.3717410446 0.304\n",
      "123 1.35901437233 0.316\n",
      "124 1.34323564158 0.348\n",
      "125 1.34700024283 0.344\n",
      "126 1.35172430329 0.312\n",
      "127 1.34682295298 0.312\n",
      "128 1.34953581484 0.288\n",
      "129 1.36338644235 0.28\n",
      "130 1.36456861054 0.308\n",
      "131 1.33854237947 0.308\n",
      "132 1.35984163561 0.28\n",
      "133 1.33948146138 0.324\n",
      "134 1.35936113268 0.28\n",
      "135 1.33689921406 0.34\n",
      "136 1.34500095742 0.316\n",
      "137 1.33070885901 0.316\n",
      "138 1.33575289854 0.344\n",
      "139 1.34011669446 0.376\n",
      "140 1.32049202083 0.412\n",
      "141 1.34641505596 0.336\n",
      "142 1.32856013146 0.384\n",
      "143 1.33529035381 0.328\n",
      "144 1.29619207153 0.392\n",
      "145 1.33502948028 0.356\n",
      "146 1.3528096076 0.3\n",
      "147 1.30833679015 0.384\n",
      "148 1.32673934632 0.348\n",
      "149 1.30776618112 0.38\n",
      "150 1.33844226428 0.36\n",
      "151 1.32343636063 0.368\n",
      "152 1.30957998081 0.404\n",
      "153 1.33001796998 0.332\n",
      "154 1.32807817594 0.36\n",
      "155 1.32902978441 0.376\n",
      "156 1.31626912309 0.384\n",
      "157 1.2999104193 0.404\n",
      "158 1.29410232415 0.396\n",
      "159 1.27702341049 0.452\n",
      "160 1.30358681325 0.412\n",
      "161 1.29470806589 0.424\n",
      "162 1.2948071494 0.404\n",
      "163 1.30922620652 0.416\n",
      "164 1.27982224513 0.424\n",
      "165 1.30691153334 0.38\n",
      "166 1.29230866705 0.416\n",
      "167 1.28337745074 0.42\n",
      "168 1.27360839767 0.42\n",
      "169 1.26539985501 0.416\n",
      "170 1.27396421066 0.436\n",
      "171 1.27785826426 0.404\n",
      "172 1.2878797754 0.38\n",
      "173 1.29716738348 0.38\n",
      "174 1.30949548637 0.412\n",
      "175 1.26719994822 0.444\n",
      "176 1.29099712323 0.412\n",
      "177 1.28402837105 0.408\n",
      "178 1.27551710768 0.432\n",
      "179 1.26556578784 0.432\n",
      "180 1.27939763172 0.42\n",
      "181 1.27923256118 0.428\n",
      "182 1.28102041033 0.404\n",
      "183 1.29096604208 0.412\n",
      "184 1.26861017218 0.404\n",
      "185 1.27953975108 0.384\n",
      "186 1.26450430165 0.432\n",
      "187 1.28630345 0.408\n",
      "188 1.27995410195 0.408\n",
      "189 1.26187763165 0.436\n",
      "190 1.26480800329 0.424\n",
      "191 1.26387642523 0.436\n",
      "192 1.2774282213 0.388\n",
      "193 1.26585986883 0.408\n",
      "194 1.26176187607 0.412\n",
      "195 1.27154769212 0.412\n",
      "196 1.26396182489 0.392\n",
      "197 1.26428434908 0.428\n",
      "198 1.26535478493 0.412\n",
      "199 1.27230180556 0.436\n"
     ]
    }
   ],
   "source": [
    "def randomize(x, y):\n",
    "    new_x = np.zeros((x.shape[0] * 4, x.shape[2]))\n",
    "    new_y = np.zeros_like(y)\n",
    "    for i in range(x.shape[0]):\n",
    "        keys = np.arange(4)\n",
    "        np.random.shuffle(keys)\n",
    "        for j, k in enumerate(keys):\n",
    "            new_x[i*4 + k] = x[i, j]\n",
    "            new_y[i, k] = y[i, j]\n",
    "    return new_x, new_y.astype('int32')\n",
    "\n",
    "BATCH = 50\n",
    "for e in range(200):\n",
    "    np.random.shuffle(idx_train)\n",
    "    for i in range(0, idx_train.shape[0], 50):\n",
    "        keys = idx_train[i:i+BATCH]\n",
    "        batch_x = all_x[keys]\n",
    "        batch_y = all_y[keys]\n",
    "        bx, by = randomize(batch_x, batch_y)\n",
    "        loss = train_fn(bx, by)\n",
    "#         print(loss)\n",
    "    bx, by = randomize(all_x[idx_valid], all_y[idx_valid])\n",
    "    print(e, cost_fn(bx, by), acc_fn(bx, by))"
   ]
  },
  {
   "cell_type": "code",
   "execution_count": 323,
   "metadata": {
    "collapsed": false
   },
   "outputs": [
    {
     "name": "stdout",
     "output_type": "stream",
     "text": [
      "[ 0.6307913   0.3830684   0.26365166  0.20653428  0.15964845  0.10003289\n",
      "  0.06163429  0.0283954   0.00352024 -0.01215039]\n"
     ]
    }
   ],
   "source": [
    "W = params[0].get_value()[:,0]\n",
    "# W = np.ones_like(W)\n",
    "# W[0] = 2\n",
    "print(W)\n",
    "\n",
    "def norm_softmax(data, mult=1):\n",
    "    s = data.sum(axis=1, keepdims=True)\n",
    "    normalized = data/s * mult\n",
    "    exps = np.exp(normalized)\n",
    "    return exps / exps.sum(axis=1, keepdims=True) \n"
   ]
  },
  {
   "cell_type": "code",
   "execution_count": 257,
   "metadata": {
    "collapsed": false
   },
   "outputs": [
    {
     "name": "stdout",
     "output_type": "stream",
     "text": [
      "0.0 Overall accuracy 0.3768\n",
      "0.010101010101 Overall accuracy 0.3864\n",
      "0.020202020202 Overall accuracy 0.3948\n",
      "0.030303030303 Overall accuracy 0.3984\n",
      "0.040404040404 Overall accuracy 0.4044\n",
      "0.0505050505051 Overall accuracy 0.416\n",
      "0.0606060606061 Overall accuracy 0.4188\n",
      "0.0707070707071 Overall accuracy 0.4192\n",
      "0.0808080808081 Overall accuracy 0.4236\n",
      "0.0909090909091 Overall accuracy 0.43\n",
      "0.10101010101 Overall accuracy 0.4352\n",
      "0.111111111111 Overall accuracy 0.436\n",
      "0.121212121212 Overall accuracy 0.438\n",
      "0.131313131313 Overall accuracy 0.4408\n",
      "0.141414141414 Overall accuracy 0.4408\n",
      "0.151515151515 Overall accuracy 0.4408\n",
      "0.161616161616 Overall accuracy 0.444\n",
      "0.171717171717 Overall accuracy 0.4436\n",
      "0.181818181818 Overall accuracy 0.444\n",
      "0.191919191919 Overall accuracy 0.444\n",
      "0.20202020202 Overall accuracy 0.4472\n",
      "0.212121212121 Overall accuracy 0.4484\n",
      "0.222222222222 Overall accuracy 0.4484\n",
      "0.232323232323 Overall accuracy 0.4496\n",
      "0.242424242424 Overall accuracy 0.4484\n",
      "0.252525252525 Overall accuracy 0.4488\n",
      "0.262626262626 Overall accuracy 0.4492\n",
      "0.272727272727 Overall accuracy 0.4484\n",
      "0.282828282828 Overall accuracy 0.4492\n",
      "0.292929292929 Overall accuracy 0.4496\n",
      "0.30303030303 Overall accuracy 0.4492\n",
      "0.313131313131 Overall accuracy 0.45\n",
      "0.323232323232 Overall accuracy 0.45\n",
      "0.333333333333 Overall accuracy 0.4492\n",
      "0.343434343434 Overall accuracy 0.4512\n",
      "0.353535353535 Overall accuracy 0.4524\n",
      "0.363636363636 Overall accuracy 0.4508\n",
      "0.373737373737 Overall accuracy 0.4516\n",
      "0.383838383838 Overall accuracy 0.4512\n",
      "0.393939393939 Overall accuracy 0.4532\n",
      "0.40404040404 Overall accuracy 0.4524\n",
      "0.414141414141 Overall accuracy 0.4528\n",
      "0.424242424242 Overall accuracy 0.4532\n",
      "0.434343434343 Overall accuracy 0.4536\n",
      "0.444444444444 Overall accuracy 0.4552\n",
      "0.454545454545 Overall accuracy 0.4552\n",
      "0.464646464646 Overall accuracy 0.4548\n",
      "0.474747474747 Overall accuracy 0.4552\n",
      "0.484848484848 Overall accuracy 0.4556\n",
      "0.494949494949 Overall accuracy 0.4544\n",
      "0.505050505051 Overall accuracy 0.4552\n",
      "0.515151515152 Overall accuracy 0.4552\n",
      "0.525252525253 Overall accuracy 0.4548\n",
      "0.535353535354 Overall accuracy 0.4552\n",
      "0.545454545455 Overall accuracy 0.4556\n",
      "0.555555555556 Overall accuracy 0.456\n",
      "0.565656565657 Overall accuracy 0.4564\n",
      "0.575757575758 Overall accuracy 0.456\n",
      "0.585858585859 Overall accuracy 0.4556\n",
      "0.59595959596 Overall accuracy 0.4564\n",
      "0.606060606061 Overall accuracy 0.4576\n",
      "0.616161616162 Overall accuracy 0.4572\n",
      "0.626262626263 Overall accuracy 0.4564\n",
      "0.636363636364 Overall accuracy 0.4572\n",
      "0.646464646465 Overall accuracy 0.4576\n",
      "0.656565656566 Overall accuracy 0.4576\n",
      "0.666666666667 Overall accuracy 0.458\n",
      "0.676767676768 Overall accuracy 0.4584\n",
      "0.686868686869 Overall accuracy 0.4596\n",
      "0.69696969697 Overall accuracy 0.4588\n",
      "0.707070707071 Overall accuracy 0.4584\n",
      "0.717171717172 Overall accuracy 0.4584\n",
      "0.727272727273 Overall accuracy 0.458\n",
      "0.737373737374 Overall accuracy 0.4592\n",
      "0.747474747475 Overall accuracy 0.4596\n",
      "0.757575757576 Overall accuracy 0.4584\n",
      "0.767676767677 Overall accuracy 0.4588\n",
      "0.777777777778 Overall accuracy 0.4584\n",
      "0.787878787879 Overall accuracy 0.458\n",
      "0.79797979798 Overall accuracy 0.458\n",
      "0.808080808081 Overall accuracy 0.4576\n",
      "0.818181818182 Overall accuracy 0.458\n",
      "0.828282828283 Overall accuracy 0.4572\n",
      "0.838383838384 Overall accuracy 0.4568\n",
      "0.848484848485 Overall accuracy 0.456\n",
      "0.858585858586 Overall accuracy 0.4552\n",
      "0.868686868687 Overall accuracy 0.4552\n",
      "0.878787878788 Overall accuracy 0.4552\n",
      "0.888888888889 Overall accuracy 0.4544\n",
      "0.89898989899 Overall accuracy 0.4552\n",
      "0.909090909091 Overall accuracy 0.4552\n",
      "0.919191919192 Overall accuracy 0.4544\n",
      "0.929292929293 Overall accuracy 0.4536\n",
      "0.939393939394 Overall accuracy 0.4528\n",
      "0.949494949495 Overall accuracy 0.4512\n",
      "0.959595959596 Overall accuracy 0.4512\n",
      "0.969696969697 Overall accuracy 0.4512\n",
      "0.979797979798 Overall accuracy 0.4508\n",
      "0.989898989899 Overall accuracy 0.4508\n",
      "1.0 Overall accuracy 0.4508\n"
     ]
    }
   ],
   "source": [
    "res = []\n",
    "bx, by = randomize(all_x, all_y)\n",
    "\n",
    "lucene_output = np.dot(all_x, W)\n",
    "lucene_output = np.exp(lucene_output)\n",
    "lucene_output = lucene_output / lucene_output.sum(axis=1, keepdims=1)\n",
    "for gamma  in np.linspace(0, 1, 100):\n",
    "    overall_output = norm_softmax(lucene_output)*gamma + norm_softmax(W2V)*(1-gamma)\n",
    "    print(gamma, 'Overall accuracy', (all_y.argmax(axis=1) == overall_output.argmax(axis=1)).sum() / all_y.shape[0])\n",
    "    acc = (all_y.argmax(axis=1) == overall_output.argmax(axis=1)).sum() / all_y.shape[0]\n",
    "    res.append(acc)\n",
    "\n"
   ]
  },
  {
   "cell_type": "code",
   "execution_count": 258,
   "metadata": {
    "collapsed": false
   },
   "outputs": [
    {
     "data": {
      "text/plain": [
       "[<matplotlib.lines.Line2D at 0x7f4056c88450>]"
      ]
     },
     "execution_count": 258,
     "metadata": {},
     "output_type": "execute_result"
    },
    {
     "data": {
      "image/png": "[encoded data removed]",
      "text/plain": [
       "<matplotlib.figure.Figure at 0x7f4057d307d0>"
      ]
     },
     "metadata": {},
     "output_type": "display_data"
    }
   ],
   "source": [
    "%matplotlib inline\n",
    "from matplotlib.pyplot import *\n",
    "\n",
    "plot(res)"
   ]
  },
  {
   "cell_type": "code",
   "execution_count": 283,
   "metadata": {
    "collapsed": false
   },
   "outputs": [
    {
     "data": {
      "text/plain": [
       "32528"
      ]
     },
     "execution_count": 283,
     "metadata": {},
     "output_type": "execute_result"
    }
   ],
   "source": [
    "bx.shape[0]"
   ]
  },
  {
   "cell_type": "code",
   "execution_count": 329,
   "metadata": {
    "collapsed": false
   },
   "outputs": [],
   "source": [
    "res = []\n",
    "bx, by = randomize(all_x, all_y)\n",
    "\n",
    "lucene_output = np.dot(all_x, W)\n",
    "lucene_output = np.exp(lucene_output)\n",
    "lucene_output = lucene_output / lucene_output.sum(axis=1, keepdims=1)\n",
    "\n",
    "gamma = 0.75\n",
    "overall_output = norm_softmax(lucene_output)*gamma + norm_softmax(W2V)*(1-gamma)\n",
    "overall_answers = overall_output.argmax(axis=1)\n",
    "\n",
    "SUMBISSION_FILE = join(DATA_DIR, 'submissions', 'weights.csv')\n",
    "\n",
    "with open(SUMBISSION_FILE, mode='w') as f:\n",
    "    print('id,correctAnswer', file=f)\n",
    "    for i in range(by.shape[0]):\n",
    "        print(all_qid[i], 'ABCD'[overall_answers[i]], sep=',', file=f)"
   ]
  },
  {
   "cell_type": "code",
   "execution_count": null,
   "metadata": {
    "collapsed": true
   },
   "outputs": [],
   "source": []
  }
 ],
 "metadata": {
  "kernelspec": {
   "display_name": "Python 2",
   "language": "python",
   "name": "python2"
  },
  "language_info": {
   "codemirror_mode": {
    "name": "ipython",
    "version": 2
   },
   "file_extension": ".py",
   "mimetype": "text/x-python",
   "name": "python",
   "nbconvert_exporter": "python",
   "pygments_lexer": "ipython2",
   "version": "2.7.9"
  }
 },
 "nbformat": 4,
 "nbformat_minor": 0
}
