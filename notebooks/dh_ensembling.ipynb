{
 "cells": [
  {
   "cell_type": "code",
   "execution_count": 222,
   "metadata": {
    "collapsed": false
   },
   "outputs": [],
   "source": [
    "from __future__ import print_function, division, unicode_literals\n",
    "import six\n",
    "import os\n",
    "from os.path import join\n",
    "import json\n",
    "from codecs import open\n",
    "from collections import defaultdict\n",
    "from operator import itemgetter\n",
    "import nltk\n",
    "import numpy as np\n",
    "from nltk.corpus import stopwords\n",
    "import re\n",
    "import codecs\n",
    "import pandas as pd\n",
    "import random\n",
    "from itertools import islice\n",
    "\n",
    "import theano\n",
    "import theano.tensor as T\n",
    "import lasagne\n",
    "import lasagne.layers as LL\n",
    "from lasagne.nonlinearities import softmax, elu\n",
    "\n",
    "from sklearn.cross_validation import KFold"
   ]
  },
  {
   "cell_type": "code",
   "execution_count": 223,
   "metadata": {
    "collapsed": true
   },
   "outputs": [],
   "source": [
    "DATA_DIR = join(os.environ['HOME'], 'data/allen-ai-challenge')\n",
    "FEATURE_DIR = join(DATA_DIR, 'features')\n",
    "\n",
    "TRAINING_CORRECTS = join(FEATURE_DIR, 'correct_answers.tsv')\n",
    "TRAINING_SET = join(DATA_DIR, 'training_set.tsv')\n",
    "VALIDATION_SET = join(DATA_DIR, 'validation_set.tsv')\n",
    "\n",
    "SUMBISSION_FILE = join(DATA_DIR, 'submissions', 'ensemble1.csv')\n",
    "\n",
    "# DIM_NGRAMS = 1\n",
    "# NGRAMS = 'ngrams_0429_1483'\n",
    "\n",
    "DIM_NGRAMS = 4\n",
    "NGRAMS = 'merged_ngrams'\n",
    "\n",
    "DIM_REPTIL = 1\n",
    "REPTIL = 'set_reptil_features'\n",
    "\n",
    "DIM_LUCENE_ROMAN = 50\n",
    "LUCENE_ROMAN = 'lucene_f5'\n",
    "\n",
    "DIM_LUCENE_MORE = 20\n",
    "LUCENE_MORE = 'lucene_f5_more_data'"
   ]
  },
  {
   "cell_type": "code",
   "execution_count": 224,
   "metadata": {
    "collapsed": true
   },
   "outputs": [],
   "source": [
    "def fn(dataset_name, dataset_type='training'):\n",
    "    assert dataset_type in ['training', 'validation']\n",
    "    return join(FEATURE_DIR, ('%s_%s.tsv' % (dataset_type, dataset_name)))"
   ]
  },
  {
   "cell_type": "code",
   "execution_count": 225,
   "metadata": {
    "collapsed": false
   },
   "outputs": [],
   "source": [
    "if not os.path.exists(TRAINING_CORRECTS):\n",
    "    print(TRAINING_CORRECTS, 'not found. Creating a new one...')\n",
    "    with open(TRAINING_SET, encoding='utf8') as fi:\n",
    "        fi.readline()  # skip header\n",
    "        with open(TRAINING_CORRECTS, encoding='utf8', mode='w') as fo:\n",
    "            for line in fi:\n",
    "                qid = line.split('\\t')[0]\n",
    "                correct = line.split('\\t')[2]\n",
    "                print(qid, correct, sep='\\t', file=fo)      "
   ]
  },
  {
   "cell_type": "markdown",
   "metadata": {},
   "source": [
    "## Prepare data\n",
    "-------------"
   ]
  },
  {
   "cell_type": "code",
   "execution_count": 226,
   "metadata": {
    "collapsed": true
   },
   "outputs": [],
   "source": [
    "correct_map = {}\n",
    "with open(TRAINING_CORRECTS, encoding='utf8') as f:\n",
    "    for qid, c in (line.strip().split() for line in f):\n",
    "        correct_map[int(qid)] = 'ABCD'.index(c)"
   ]
  },
  {
   "cell_type": "code",
   "execution_count": 227,
   "metadata": {
    "collapsed": true
   },
   "outputs": [],
   "source": [
    "idx_valid = []\n",
    "with open(VALIDATION_SET, encoding='utf8') as f:\n",
    "    f.readline()\n",
    "    for row in (line.strip().split('\\t') for line in f):\n",
    "        idx_valid.append(int(row[0]))"
   ]
  },
  {
   "cell_type": "code",
   "execution_count": 228,
   "metadata": {
    "collapsed": false
   },
   "outputs": [],
   "source": [
    "ids = sorted(correct_map)\n",
    "itrain, itest = next(iter(KFold(len(ids), n_folds=3)))\n",
    "idx_train = [ids[i] for i in itrain]\n",
    "idx_test = [ids[i] for i in itest]"
   ]
  },
  {
   "cell_type": "code",
   "execution_count": 229,
   "metadata": {
    "collapsed": true
   },
   "outputs": [],
   "source": [
    "def cycle_rand(seq):\n",
    "    while True:\n",
    "        rseq = list(seq)\n",
    "        random.shuffle(rseq)\n",
    "        for s in rseq:\n",
    "            yield s"
   ]
  },
  {
   "cell_type": "code",
   "execution_count": 230,
   "metadata": {
    "collapsed": true
   },
   "outputs": [],
   "source": [
    "def take(n, iterable):\n",
    "    \"Return first n items of the iterable as a list\"\n",
    "    return list(islice(iterable, n))"
   ]
  },
  {
   "cell_type": "code",
   "execution_count": 231,
   "metadata": {
    "collapsed": true
   },
   "outputs": [],
   "source": [
    "def read_dataset_(filename, dims, dict_out):\n",
    "    with open(filename, encoding='utf8') as f:\n",
    "        for row in (line.strip().split('\\t') for line in f):\n",
    "            qid = int(row[0])\n",
    "            dict_out[qid] = np.array([np.fromstring(x, sep=';') for x in row[1:]])\n",
    "\n",
    "            \n",
    "def read_dataset(dataset_name, dims=1):\n",
    "    data = defaultdict(lambda: np.zeros((4, dims)))\n",
    "    read_dataset_(fn(dataset_name, 'training'), dims, data)\n",
    "    read_dataset_(fn(dataset_name, 'validation'), dims, data)\n",
    "    return data\n",
    "\n",
    "\n",
    "def generate_data(indices, data_x_dict, ):\n",
    "    f_dim = data_x_dict.values()[0][0].shape[0]\n",
    "    \n",
    "    x = np.zeros((len(indices), 4, f_dim), dtype='float32')\n",
    "    y = np.zeros((len(indices)), dtype='int32')\n",
    "    for row, i in enumerate(indices):\n",
    "        x[row] = data_x_dict[i]\n",
    "        y[row] = correct_map.get(i, 0)\n",
    "    return x, y"
   ]
  },
  {
   "cell_type": "code",
   "execution_count": 232,
   "metadata": {
    "collapsed": false
   },
   "outputs": [],
   "source": [
    "def shuffle_dataset(dataset_x, dataset_y):\n",
    "    f_dim = dataset_x.shape[2]  # feature dimensions\n",
    "    rx = np.zeros_like(dataset_x)\n",
    "    ry = np.zeros_like(dataset_y)\n",
    "    for i_row in xrange(dataset_y.shape[0]):\n",
    "        rand_order = np.arange(4)\n",
    "        np.random.shuffle(rand_order)\n",
    "        for k in range(4):\n",
    "            ri = rand_order[k]\n",
    "            rx[i_row, ri] = dataset_x[i_row, k]\n",
    "        ry[i_row] = rand_order[dataset_y[i_row]]\n",
    "    return rx, ry\n",
    "\n",
    "\n",
    "def flatten_dataset(dataset_x, dataset_y):\n",
    "    row_count, choice_count, f_dim = dataset_x.shape  # feature dimensions\n",
    "    return dataset_x.reshape(row_count, choice_count * f_dim), dataset_y"
   ]
  },
  {
   "cell_type": "code",
   "execution_count": 233,
   "metadata": {
    "collapsed": false
   },
   "outputs": [],
   "source": [
    "# generate_data([100001], lucene)"
   ]
  },
  {
   "cell_type": "code",
   "execution_count": 234,
   "metadata": {
    "collapsed": false
   },
   "outputs": [],
   "source": [
    "# shuffle_dataset(*generate_data([100001], lucene))"
   ]
  },
  {
   "cell_type": "markdown",
   "metadata": {},
   "source": [
    "## NGrams\n",
    "-----------"
   ]
  },
  {
   "cell_type": "code",
   "execution_count": 235,
   "metadata": {
    "collapsed": false
   },
   "outputs": [],
   "source": [
    "ngrams = read_dataset(NGRAMS, dims=DIM_NGRAMS)"
   ]
  },
  {
   "cell_type": "code",
   "execution_count": 236,
   "metadata": {
    "collapsed": false
   },
   "outputs": [],
   "source": [
    "L2 = 0.0001\n",
    "\n",
    "t_target = T.ivector()\n",
    "\n",
    "l_in = LL.InputLayer((None, 4, DIM_NGRAMS))\n",
    "nn = LL.DenseLayer(l_in, 30, nonlinearity=elu)\n",
    "nn = LL.DenseLayer(nn, 4, nonlinearity=softmax, b=None)\n",
    "t_output = LL.get_output(nn)\n",
    "\n",
    "t_cost = lasagne.objectives.categorical_crossentropy(t_output, t_target).mean()\n",
    "t_acc = lasagne.objectives.categorical_accuracy(t_output, t_target).mean()\n",
    "\n",
    "params = LL.get_all_params(nn)\n",
    "\n",
    "l2 = lasagne.regularization.regularize_network_params(nn, lasagne.regularization.l2)\n",
    "\n",
    "updates = lasagne.updates.adam(t_cost + L2*l2, params)\n",
    "\n",
    "train_fn = theano.function([l_in.input_var, t_target], t_cost, updates=updates)\n",
    "cost_fn = theano.function([l_in.input_var, t_target], [t_cost, t_acc])\n",
    "\n",
    "forward_fn = theano.function([l_in.input_var], t_output)"
   ]
  },
  {
   "cell_type": "code",
   "execution_count": 239,
   "metadata": {
    "collapsed": false
   },
   "outputs": [
    {
     "name": "stdout",
     "output_type": "stream",
     "text": [
      "10000 1.32587 1.34104549885 0.410071942446 0.402877697842\n",
      "20000 1.32363 1.33034670353 0.408872901679 0.402877697842\n",
      "30000 1.31468 1.33425927162 0.405275779376 0.402877697842\n",
      "40000 1.31667 1.37550365925 0.410071942446 0.402877697842\n",
      "50000 1.32522 1.34450221062 0.401678657074 0.402877697842\n",
      "60000 1.31717 1.33681488037 0.402877697842 0.402877697842\n",
      "70000 1.30996 1.34732842445 0.412470023981 0.402877697842\n",
      "80000 1.31262 1.34604716301 0.39928057554 0.402877697842\n",
      "90000 1.31091 1.34634280205 0.411270983213 0.402877697842\n",
      "100000 1.32087 1.36074709892 0.39928057554 0.402877697842\n",
      "110000 1.3186 1.44600951672 0.39448441247 0.402877697842\n",
      "120000 1.32495 1.35781598091 0.404076738609 0.402877697842\n",
      "130000 1.3085 1.35561776161 0.406474820144 0.402877697842\n",
      "140000 1.30678 1.347671628 0.393285371703 0.402877697842\n",
      "150000 1.31331 1.36765646935 0.410071942446 0.402877697842\n",
      "160000 1.30564 1.3350276947 0.398081534772 0.402877697842\n",
      "170000 1.30277 1.34949028492 0.39928057554 0.402877697842\n",
      "180000 1.31441 1.3718239069 0.419664268585 0.402877697842\n",
      "190000 1.3197 1.35998797417 0.405275779376 0.402877697842\n",
      "200000 1.31048 1.35061299801 0.411270983213 0.402877697842\n",
      "210000 1.2974 1.34495317936 0.404076738609 0.402877697842\n",
      "220000 1.29914 1.33884239197 0.404076738609 0.402877697842\n",
      "230000 1.307 1.36169505119 0.402877697842 0.402877697842\n",
      "240000 1.29964 1.33639776707 0.418465227818 0.402877697842\n",
      "250000 1.30609 1.33573234081 0.41726618705 0.402877697842\n",
      "260000 1.30187 1.34334814548 0.42206235012 0.402877697842\n",
      "270000 1.30359 1.38868868351 0.412470023981 0.402877697842\n",
      "280000 1.30912 1.34652996063 0.39928057554 0.402877697842\n",
      "290000 1.30298 1.37104463577 0.393285371703 0.402877697842\n",
      "300000 1.30059 1.33772265911 0.404076738609 0.402877697842\n",
      "310000 1.29871 1.36448001862 0.411270983213 0.402877697842\n",
      "320000 1.29717 1.33971393108 0.416067146283 0.402877697842\n",
      "330000 1.29753 1.33219456673 0.411270983213 0.402877697842\n",
      "340000 1.29619 1.34169435501 0.425659472422 0.402877697842\n",
      "350000 1.29647 1.34459495544 0.411270983213 0.402877697842\n",
      "360000 1.29559 1.34513998032 0.418465227818 0.402877697842\n",
      "370000 1.30169 1.34305858612 0.414868105516 0.402877697842\n",
      "380000 1.29892 1.32386648655 0.410071942446 0.402877697842\n",
      "390000 1.29675 1.33433949947 0.414868105516 0.402877697842\n",
      "400000 1.30372 1.33252048492 0.413669064748 0.402877697842\n",
      "410000 1.29622 1.31654679775 0.420863309353 0.402877697842\n",
      "420000 1.29896 1.32735002041 0.408872901679 0.402877697842\n",
      "430000 1.29395 1.31260859966 0.418465227818 0.402877697842\n",
      "440000 1.28911 1.3629720211 0.408872901679 0.402877697842\n",
      "450000 1.29365 1.33074700832 0.411270983213 0.402877697842\n",
      "460000 1.294 1.3557062149 0.405275779376 0.402877697842\n",
      "470000 1.29255 1.32510066032 0.419664268585 0.402877697842\n",
      "480000 1.29511 1.34502458572 0.396882494005 0.402877697842\n",
      "490000 1.30569 1.40747451782 0.412470023981 0.402877697842\n",
      "500000 1.2966 1.32404494286 0.408872901679 0.402877697842\n"
     ]
    }
   ],
   "source": [
    "id_generator = cycle_rand(idx_train)\n",
    "\n",
    "test_x, test_y = generate_data(idx_test, ngrams)\n",
    "\n",
    "BATCH = 100\n",
    "costs = []\n",
    "rows_seen = 0\n",
    "while rows_seen < 500000:\n",
    "    indices = take(BATCH, id_generator)\n",
    "    batch_x, batch_y = shuffle_dataset(*generate_data(indices, ngrams))\n",
    "    costs.append(train_fn(batch_x, batch_y))\n",
    "    rows_seen += BATCH\n",
    "    if rows_seen % 10000 < BATCH:\n",
    "        nll, acc = cost_fn(test_x, test_y)\n",
    "        mean_acc = (test_x.sum(axis=2).argmax(axis=1) == test_y).sum() / test_y.shape[0]\n",
    "        print(rows_seen, np.mean(costs), nll, acc, mean_acc)\n",
    "        costs = []"
   ]
  },
  {
   "cell_type": "code",
   "execution_count": 240,
   "metadata": {
    "collapsed": false
   },
   "outputs": [],
   "source": [
    "ngrams_train_pred = forward_fn(generate_data(idx_train, ngrams)[0])\n",
    "ngrams_test_pred = forward_fn(generate_data(idx_test, ngrams)[0])\n",
    "ngrams_valid_pred = forward_fn(generate_data(idx_valid, ngrams)[0])"
   ]
  },
  {
   "cell_type": "markdown",
   "metadata": {},
   "source": [
    "REPTIL\n",
    "--------------------"
   ]
  },
  {
   "cell_type": "code",
   "execution_count": 241,
   "metadata": {
    "collapsed": false
   },
   "outputs": [],
   "source": [
    "reptil = read_dataset(REPTIL)"
   ]
  },
  {
   "cell_type": "code",
   "execution_count": 244,
   "metadata": {
    "collapsed": true
   },
   "outputs": [],
   "source": [
    "t_target = T.ivector()\n",
    "\n",
    "l_in = LL.InputLayer((None, 4, DIM_REPTIL))\n",
    "nn = LL.DenseLayer(l_in, 30, nonlinearity=elu)\n",
    "nn = LL.DenseLayer(nn, 4, nonlinearity=softmax, b=None)\n",
    "t_output = LL.get_output(nn, deterministic=False)\n",
    "t_output_det = LL.get_output(nn, deterministic=True)\n",
    "\n",
    "t_cost = lasagne.objectives.categorical_crossentropy(t_output, t_target).mean()\n",
    "t_acc = lasagne.objectives.categorical_accuracy(t_output, t_target).mean()\n",
    "\n",
    "t_cost_det = lasagne.objectives.categorical_crossentropy(t_output_det, t_target).mean()\n",
    "t_acc_det = lasagne.objectives.categorical_accuracy(t_output_det, t_target).mean()\n",
    "\n",
    "params = LL.get_all_params(nn)\n",
    "\n",
    "l2 = lasagne.regularization.regularize_network_params(nn, lasagne.regularization.l2)\n",
    "updates = lasagne.updates.adam(t_cost + L2*l2, params)\n",
    "\n",
    "train_fn = theano.function([l_in.input_var, t_target], t_cost, updates=updates)\n",
    "cost_fn = theano.function([l_in.input_var, t_target], [t_cost_det, t_acc_det])\n",
    "\n",
    "forward_fn = theano.function([l_in.input_var], t_output_det)"
   ]
  },
  {
   "cell_type": "code",
   "execution_count": 245,
   "metadata": {
    "collapsed": false
   },
   "outputs": [
    {
     "name": "stdout",
     "output_type": "stream",
     "text": [
      "1000 1.39045 1.3866648674 0.268585131894 0.434052757794\n",
      "2000 1.38578 1.3846372366 0.269784172662 0.434052757794\n",
      "3000 1.38584 1.38259017467 0.244604316547 0.434052757794\n",
      "4000 1.38541 1.38134741783 0.28896882494 0.434052757794\n",
      "5000 1.38261 1.37879121304 0.300959232614 0.434052757794\n",
      "6000 1.38098 1.37630319595 0.310551558753 0.434052757794\n",
      "7000 1.37674 1.37425780296 0.317745803357 0.434052757794\n",
      "8000 1.37797 1.37329018116 0.31654676259 0.434052757794\n",
      "9000 1.37517 1.37300682068 0.315347721823 0.434052757794\n",
      "10000 1.37595 1.37225270271 0.328537170264 0.434052757794\n",
      "11000 1.37356 1.3713350296 0.329736211031 0.434052757794\n",
      "12000 1.36995 1.3695088625 0.324940047962 0.434052757794\n",
      "13000 1.36833 1.36786532402 0.326139088729 0.434052757794\n",
      "14000 1.36996 1.36613285542 0.338129496403 0.434052757794\n",
      "15000 1.36573 1.36420297623 0.334532374101 0.434052757794\n",
      "16000 1.3637 1.36283802986 0.347721822542 0.434052757794\n",
      "17000 1.36455 1.36141943932 0.350119904077 0.434052757794\n",
      "18000 1.35904 1.36014056206 0.360911270983 0.434052757794\n",
      "19000 1.36176 1.35924291611 0.365707434053 0.434052757794\n",
      "20000 1.36122 1.35873234272 0.382494004796 0.434052757794\n",
      "21000 1.35653 1.357640028 0.386091127098 0.434052757794\n",
      "22000 1.35674 1.35624027252 0.39448441247 0.434052757794\n",
      "23000 1.35873 1.3556573391 0.36690647482 0.434052757794\n",
      "24000 1.35675 1.3541841507 0.365707434053 0.434052757794\n",
      "25000 1.35303 1.35378718376 0.392086330935 0.434052757794\n",
      "26000 1.35493 1.35213243961 0.404076738609 0.434052757794\n",
      "27000 1.34925 1.35041952133 0.400479616307 0.434052757794\n",
      "28000 1.3469 1.34959709644 0.410071942446 0.434052757794\n",
      "29000 1.34622 1.34892380238 0.402877697842 0.434052757794\n",
      "30000 1.35059 1.34763109684 0.413669064748 0.434052757794\n",
      "31000 1.34481 1.34600114822 0.404076738609 0.434052757794\n",
      "32000 1.34242 1.34416484833 0.393285371703 0.434052757794\n",
      "33000 1.34821 1.3434252739 0.39928057554 0.434052757794\n",
      "34000 1.34084 1.34328198433 0.393285371703 0.434052757794\n",
      "35000 1.33835 1.34326171875 0.398081534772 0.434052757794\n",
      "36000 1.3363 1.34214496613 0.39448441247 0.434052757794\n",
      "37000 1.33784 1.34180378914 0.392086330935 0.434052757794\n",
      "38000 1.34015 1.3404481411 0.407673860911 0.434052757794\n",
      "39000 1.33388 1.33883821964 0.411270983213 0.434052757794\n",
      "40000 1.3328 1.3361890316 0.419664268585 0.434052757794\n",
      "41000 1.33641 1.33255553246 0.413669064748 0.434052757794\n",
      "42000 1.32841 1.33131206036 0.404076738609 0.434052757794\n",
      "43000 1.3284 1.33222639561 0.413669064748 0.434052757794\n",
      "44000 1.32927 1.33117997646 0.418465227818 0.434052757794\n",
      "45000 1.32813 1.33026492596 0.420863309353 0.434052757794\n",
      "46000 1.32034 1.32886266708 0.418465227818 0.434052757794\n",
      "47000 1.33274 1.3270983696 0.418465227818 0.434052757794\n",
      "48000 1.32609 1.32680332661 0.411270983213 0.434052757794\n",
      "49000 1.31867 1.32439291477 0.402877697842 0.434052757794\n",
      "50000 1.32411 1.32344698906 0.416067146283 0.434052757794\n",
      "51000 1.31437 1.32291901112 0.413669064748 0.434052757794\n",
      "52000 1.31885 1.32220649719 0.424460431655 0.434052757794\n",
      "53000 1.31992 1.32151269913 0.416067146283 0.434052757794\n",
      "54000 1.31745 1.31971883774 0.407673860911 0.434052757794\n",
      "55000 1.31633 1.31954967976 0.416067146283 0.434052757794\n",
      "56000 1.31875 1.31810855865 0.420863309353 0.434052757794\n",
      "57000 1.31176 1.31725728512 0.426858513189 0.434052757794\n",
      "58000 1.30924 1.31573414803 0.412470023981 0.434052757794\n",
      "59000 1.31634 1.3150755167 0.42206235012 0.434052757794\n",
      "60000 1.31261 1.31578350067 0.41726618705 0.434052757794\n",
      "61000 1.29897 1.31620693207 0.42206235012 0.434052757794\n",
      "62000 1.31683 1.31608510017 0.413669064748 0.434052757794\n",
      "63000 1.30818 1.31409454346 0.413669064748 0.434052757794\n",
      "64000 1.3073 1.312489748 0.414868105516 0.434052757794\n",
      "65000 1.30787 1.31173276901 0.419664268585 0.434052757794\n",
      "66000 1.30216 1.3091789484 0.430455635492 0.434052757794\n",
      "67000 1.30185 1.30741524696 0.426858513189 0.434052757794\n",
      "68000 1.31116 1.30690324306 0.42206235012 0.434052757794\n",
      "69000 1.29711 1.30563354492 0.419664268585 0.434052757794\n",
      "70000 1.30366 1.30514121056 0.428057553957 0.434052757794\n",
      "71000 1.29901 1.30356299877 0.426858513189 0.434052757794\n",
      "72000 1.30184 1.30332267284 0.412470023981 0.434052757794\n",
      "73000 1.29457 1.30445349216 0.425659472422 0.434052757794\n",
      "74000 1.30135 1.30521702766 0.428057553957 0.434052757794\n",
      "75000 1.29662 1.30689227581 0.430455635492 0.434052757794\n",
      "76000 1.30541 1.30613183975 0.428057553957 0.434052757794\n",
      "77000 1.28999 1.30277395248 0.426858513189 0.434052757794\n",
      "78000 1.29246 1.29959249496 0.418465227818 0.434052757794\n",
      "79000 1.28879 1.29990458488 0.424460431655 0.434052757794\n",
      "80000 1.29179 1.30005526543 0.435251798561 0.434052757794\n",
      "81000 1.29135 1.30016291142 0.432853717026 0.434052757794\n",
      "82000 1.29841 1.29795944691 0.429256594724 0.434052757794\n",
      "83000 1.28971 1.29843747616 0.419664268585 0.434052757794\n",
      "84000 1.2847 1.29930257797 0.408872901679 0.434052757794\n",
      "85000 1.29191 1.2961628437 0.420863309353 0.434052757794\n",
      "86000 1.29784 1.29446053505 0.418465227818 0.434052757794\n",
      "87000 1.28395 1.29482781887 0.42206235012 0.434052757794\n",
      "88000 1.29095 1.29674267769 0.443645083933 0.434052757794\n",
      "89000 1.2806 1.30084335804 0.429256594724 0.434052757794\n",
      "90000 1.2934 1.2979516983 0.434052757794 0.434052757794\n",
      "91000 1.29662 1.29349780083 0.430455635492 0.434052757794\n",
      "92000 1.27595 1.2921872139 0.41726618705 0.434052757794\n",
      "93000 1.28621 1.29371845722 0.426858513189 0.434052757794\n",
      "94000 1.28545 1.29375886917 0.431654676259 0.434052757794\n",
      "95000 1.28498 1.29374337196 0.431654676259 0.434052757794\n",
      "96000 1.29552 1.29391992092 0.424460431655 0.434052757794\n",
      "97000 1.27575 1.29460608959 0.42206235012 0.434052757794\n",
      "98000 1.28618 1.29399454594 0.418465227818 0.434052757794\n",
      "99000 1.27902 1.29521143436 0.423261390887 0.434052757794\n",
      "100000 1.28087 1.29315876961 0.42206235012 0.434052757794\n",
      "101000 1.29094 1.29099190235 0.437649880096 0.434052757794\n",
      "102000 1.28472 1.2914185524 0.431654676259 0.434052757794\n",
      "103000 1.27942 1.29054176807 0.435251798561 0.434052757794\n",
      "104000 1.25947 1.29033684731 0.437649880096 0.434052757794\n",
      "105000 1.29109 1.29052245617 0.435251798561 0.434052757794\n",
      "106000 1.29694 1.28792583942 0.430455635492 0.434052757794\n",
      "107000 1.27639 1.28746187687 0.430455635492 0.434052757794\n",
      "108000 1.28306 1.28920829296 0.425659472422 0.434052757794\n",
      "109000 1.2599 1.29185843468 0.414868105516 0.434052757794\n",
      "110000 1.2865 1.29413294792 0.414868105516 0.434052757794\n",
      "111000 1.29004 1.29394817352 0.410071942446 0.434052757794\n",
      "112000 1.26632 1.28843092918 0.423261390887 0.434052757794\n",
      "113000 1.28193 1.28546309471 0.438848920863 0.434052757794\n",
      "114000 1.2892 1.28542411327 0.435251798561 0.434052757794\n",
      "115000 1.266 1.28676486015 0.436450839329 0.434052757794\n",
      "116000 1.28135 1.2868013382 0.431654676259 0.434052757794\n",
      "117000 1.27477 1.28847968578 0.431654676259 0.434052757794\n",
      "118000 1.28485 1.28694868088 0.434052757794 0.434052757794\n",
      "119000 1.2911 1.28643000126 0.420863309353 0.434052757794\n",
      "120000 1.25838 1.28734326363 0.418465227818 0.434052757794\n",
      "121000 1.27782 1.28638660908 0.413669064748 0.434052757794\n",
      "122000 1.27744 1.28496658802 0.423261390887 0.434052757794\n",
      "123000 1.27811 1.28410351276 0.435251798561 0.434052757794\n",
      "124000 1.28054 1.28590381145 0.438848920863 0.434052757794\n",
      "125000 1.26973 1.28411328793 0.428057553957 0.434052757794\n",
      "126000 1.2558 1.28274357319 0.432853717026 0.434052757794\n",
      "127000 1.28473 1.28428864479 0.431654676259 0.434052757794\n",
      "128000 1.28554 1.28499591351 0.434052757794 0.434052757794\n",
      "129000 1.28211 1.28772616386 0.423261390887 0.434052757794\n",
      "130000 1.2774 1.29066252708 0.407673860911 0.434052757794\n",
      "131000 1.28151 1.28880608082 0.414868105516 0.434052757794\n",
      "132000 1.25463 1.28575432301 0.430455635492 0.434052757794\n",
      "133000 1.28808 1.28644728661 0.428057553957 0.434052757794\n",
      "134000 1.29223 1.28657102585 0.428057553957 0.434052757794\n",
      "135000 1.25804 1.28624916077 0.436450839329 0.434052757794\n",
      "136000 1.26223 1.28672933578 0.435251798561 0.434052757794\n",
      "137000 1.2907 1.28566384315 0.438848920863 0.434052757794\n",
      "138000 1.27473 1.28295648098 0.434052757794 0.434052757794\n",
      "139000 1.27639 1.28269886971 0.438848920863 0.434052757794\n",
      "140000 1.27227 1.28509294987 0.431654676259 0.434052757794\n",
      "141000 1.29205 1.28392064571 0.438848920863 0.434052757794\n",
      "142000 1.24396 1.2832378149 0.443645083933 0.434052757794\n",
      "143000 1.27865 1.28488755226 0.431654676259 0.434052757794\n",
      "144000 1.28336 1.28715598583 0.42206235012 0.434052757794\n",
      "145000 1.27597 1.28632712364 0.430455635492 0.434052757794\n",
      "146000 1.28247 1.28302609921 0.436450839329 0.434052757794\n",
      "147000 1.27049 1.28345727921 0.434052757794 0.434052757794\n",
      "148000 1.26662 1.284760952 0.438848920863 0.434052757794\n",
      "149000 1.26468 1.28822410107 0.431654676259 0.434052757794\n",
      "150000 1.28138 1.28723585606 0.435251798561 0.434052757794\n",
      "151000 1.28108 1.28629529476 0.4448441247 0.434052757794\n",
      "152000 1.26067 1.28358316422 0.443645083933 0.434052757794\n",
      "153000 1.27597 1.28273022175 0.436450839329 0.434052757794\n",
      "154000 1.27904 1.28400731087 0.419664268585 0.434052757794\n",
      "155000 1.26548 1.28334736824 0.423261390887 0.434052757794\n",
      "156000 1.28143 1.28130376339 0.435251798561 0.434052757794\n",
      "157000 1.25265 1.28055298328 0.434052757794 0.434052757794\n",
      "158000 1.28403 1.28049635887 0.432853717026 0.434052757794\n",
      "159000 1.26996 1.28145873547 0.442446043165 0.434052757794\n",
      "160000 1.28533 1.28319406509 0.443645083933 0.434052757794\n",
      "161000 1.25804 1.28469467163 0.434052757794 0.434052757794\n",
      "162000 1.27248 1.28629910946 0.420863309353 0.434052757794\n",
      "163000 1.27329 1.28754222393 0.420863309353 0.434052757794\n",
      "164000 1.27549 1.28716003895 0.425659472422 0.434052757794\n",
      "165000 1.27237 1.28539657593 0.437649880096 0.434052757794\n",
      "166000 1.27392 1.28318190575 0.441247002398 0.434052757794\n",
      "167000 1.26617 1.28116893768 0.437649880096 0.434052757794\n",
      "168000 1.27257 1.28083074093 0.426858513189 0.434052757794\n",
      "169000 1.2837 1.28529429436 0.411270983213 0.434052757794\n",
      "170000 1.26672 1.2856951952 0.420863309353 0.434052757794\n",
      "171000 1.28876 1.28331613541 0.434052757794 0.434052757794\n",
      "172000 1.26552 1.28293895721 0.434052757794 0.434052757794\n",
      "173000 1.27472 1.2821764946 0.435251798561 0.434052757794\n",
      "174000 1.25605 1.28449642658 0.430455635492 0.434052757794\n",
      "175000 1.27868 1.28553509712 0.424460431655 0.434052757794\n",
      "176000 1.28406 1.28513562679 0.424460431655 0.434052757794\n",
      "177000 1.25103 1.28282058239 0.426858513189 0.434052757794\n",
      "178000 1.27539 1.2810344696 0.435251798561 0.434052757794\n",
      "179000 1.29617 1.27960979939 0.434052757794 0.434052757794\n",
      "180000 1.25235 1.27861332893 0.430455635492 0.434052757794\n",
      "181000 1.26231 1.2790299654 0.426858513189 0.434052757794\n",
      "182000 1.26925 1.28140282631 0.438848920863 0.434052757794\n",
      "183000 1.27556 1.28280842304 0.442446043165 0.434052757794\n",
      "184000 1.28697 1.28214657307 0.440047961631 0.434052757794\n",
      "185000 1.26581 1.28200209141 0.42206235012 0.434052757794\n",
      "186000 1.2849 1.28219544888 0.429256594724 0.434052757794\n",
      "187000 1.27309 1.28108143806 0.431654676259 0.434052757794\n",
      "188000 1.26098 1.28046047688 0.446043165468 0.434052757794\n",
      "189000 1.28521 1.28097307682 0.448441247002 0.434052757794\n",
      "190000 1.25957 1.28192269802 0.447242206235 0.434052757794\n",
      "191000 1.2589 1.28068947792 0.436450839329 0.434052757794\n",
      "192000 1.28744 1.2799090147 0.437649880096 0.434052757794\n",
      "193000 1.26878 1.28013753891 0.442446043165 0.434052757794\n",
      "194000 1.27658 1.28391540051 0.438848920863 0.434052757794\n",
      "195000 1.26521 1.286257267 0.437649880096 0.434052757794\n",
      "196000 1.2683 1.28388738632 0.437649880096 0.434052757794\n",
      "197000 1.28712 1.28293097019 0.429256594724 0.434052757794\n",
      "198000 1.26548 1.28435969353 0.429256594724 0.434052757794\n",
      "199000 1.26747 1.28181791306 0.434052757794 0.434052757794\n",
      "200000 1.27585 1.28191614151 0.429256594724 0.434052757794\n"
     ]
    }
   ],
   "source": [
    "id_generator = cycle_rand(idx_train)\n",
    "\n",
    "test_x, test_y = generate_data(idx_test, reptil)\n",
    "\n",
    "BATCH = 100\n",
    "costs = []\n",
    "rows_seen = 0\n",
    "while rows_seen < 200000:\n",
    "    indices = take(BATCH, id_generator)\n",
    "    batch_x, batch_y = shuffle_dataset(*generate_data(indices, reptil))\n",
    "    costs.append(train_fn(batch_x, batch_y))\n",
    "    rows_seen += BATCH\n",
    "    if rows_seen % 1000 < BATCH:\n",
    "        nll, acc = cost_fn(test_x, test_y)\n",
    "        mean_acc = (test_x[:,:,0].argmax(axis=1) == test_y).sum() / test_y.shape[0]\n",
    "        print(rows_seen, np.mean(costs), nll, acc, mean_acc)\n",
    "        costs = []"
   ]
  },
  {
   "cell_type": "code",
   "execution_count": 248,
   "metadata": {
    "collapsed": false
   },
   "outputs": [],
   "source": [
    "reptil_train_pred = forward_fn(generate_data(idx_train, reptil)[0])\n",
    "reptil_test_pred = forward_fn(generate_data(idx_test, reptil)[0])\n",
    "reptil_valid_pred = forward_fn(generate_data(idx_valid, reptil)[0])"
   ]
  },
  {
   "cell_type": "markdown",
   "metadata": {},
   "source": [
    "## Lucene + Roman\n",
    "-------------"
   ]
  },
  {
   "cell_type": "code",
   "execution_count": 249,
   "metadata": {
    "collapsed": true
   },
   "outputs": [],
   "source": [
    "lucene_roman = read_dataset(LUCENE_ROMAN)"
   ]
  },
  {
   "cell_type": "code",
   "execution_count": 253,
   "metadata": {
    "collapsed": false
   },
   "outputs": [],
   "source": [
    "t_target = T.ivector()\n",
    "\n",
    "l_in = LL.InputLayer((None, 4, DIM_LUCENE_ROMAN))\n",
    "nn = LL.SliceLayer(l_in, slice(0, 10), axis=2)\n",
    "nn = LL.DenseLayer(nn, 300, nonlinearity=elu)\n",
    "nn = LL.DenseLayer(nn, 4, nonlinearity=softmax, b=None)\n",
    "t_output = LL.get_output(nn, deterministic=False)\n",
    "t_output_det = LL.get_output(nn, deterministic=True)\n",
    "\n",
    "t_cost = lasagne.objectives.categorical_crossentropy(t_output, t_target).mean()\n",
    "t_acc = lasagne.objectives.categorical_accuracy(t_output, t_target).mean()\n",
    "\n",
    "t_cost_det = lasagne.objectives.categorical_crossentropy(t_output_det, t_target).mean()\n",
    "t_acc_det = lasagne.objectives.categorical_accuracy(t_output_det, t_target).mean()\n",
    "\n",
    "params = LL.get_all_params(nn)\n",
    "\n",
    "l2 = lasagne.regularization.regularize_network_params(nn, lasagne.regularization.l2)\n",
    "updates = lasagne.updates.adam(t_cost + L2*l2, params)\n",
    "\n",
    "train_fn = theano.function([l_in.input_var, t_target], t_cost, updates=updates)\n",
    "cost_fn = theano.function([l_in.input_var, t_target], [t_cost_det, t_acc_det])\n",
    "\n",
    "forward_fn = theano.function([l_in.input_var], t_output_det)"
   ]
  },
  {
   "cell_type": "code",
   "execution_count": 255,
   "metadata": {
    "collapsed": false
   },
   "outputs": [
    {
     "name": "stdout",
     "output_type": "stream",
     "text": [
      "10000 1.0953 1.11536073685 0.537170263789 0.531175059952\n",
      "20000 1.09511 1.12386584282 0.535971223022 0.531175059952\n",
      "30000 1.09625 1.13148450851 0.525179856115 0.531175059952\n",
      "40000 1.09616 1.11229348183 0.549160671463 0.531175059952\n",
      "50000 1.10021 1.1151471138 0.539568345324 0.531175059952\n",
      "60000 1.09585 1.12077796459 0.533573141487 0.531175059952\n",
      "70000 1.09346 1.11337471008 0.552757793765 0.531175059952\n",
      "80000 1.09594 1.12249219418 0.547961630695 0.531175059952\n",
      "90000 1.09494 1.13337540627 0.517985611511 0.531175059952\n",
      "100000 1.09606 1.13887917995 0.516786570743 0.531175059952\n",
      "110000 1.09817 1.11757302284 0.541966426859 0.531175059952\n",
      "120000 1.09585 1.11861991882 0.532374100719 0.531175059952\n",
      "130000 1.09721 1.12010848522 0.528776978417 0.531175059952\n",
      "140000 1.09711 1.14166128635 0.519184652278 0.531175059952\n",
      "150000 1.09805 1.12022030354 0.547961630695 0.531175059952\n",
      "160000 1.09497 1.1348181963 0.528776978417 0.531175059952\n",
      "170000 1.09414 1.11387884617 0.526378896882 0.531175059952\n",
      "180000 1.09769 1.14279854298 0.519184652278 0.531175059952\n",
      "190000 1.09686 1.11542785168 0.537170263789 0.531175059952\n",
      "200000 1.09226 1.11574006081 0.532374100719 0.531175059952\n",
      "210000 1.09508 1.11368966103 0.538369304556 0.531175059952\n",
      "220000 1.09642 1.13301086426 0.494004796163 0.531175059952\n",
      "230000 1.09888 1.12762498856 0.532374100719 0.531175059952\n",
      "240000 1.09649 1.11796617508 0.539568345324 0.531175059952\n",
      "250000 1.09853 1.11576712132 0.52757793765 0.531175059952\n",
      "260000 1.09725 1.10758471489 0.544364508393 0.531175059952\n",
      "270000 1.09622 1.11245083809 0.535971223022 0.531175059952\n",
      "280000 1.09511 1.11894190311 0.533573141487 0.531175059952\n",
      "290000 1.09311 1.1117888689 0.549160671463 0.531175059952\n",
      "300000 1.09676 1.12705826759 0.514388489209 0.531175059952\n"
     ]
    }
   ],
   "source": [
    "id_generator = cycle_rand(idx_train)\n",
    "\n",
    "test_x, test_y = generate_data(idx_test, lucene_roman)\n",
    "\n",
    "BATCH = 100\n",
    "\n",
    "rows_seen = 0\n",
    "while rows_seen < 300000:\n",
    "    indices = take(BATCH, id_generator)\n",
    "    batch_x, batch_y = shuffle_dataset(*generate_data(indices, lucene_roman))\n",
    "    costs.append(train_fn(batch_x, batch_y))\n",
    "    rows_seen += BATCH\n",
    "    if rows_seen % 10000 < BATCH:\n",
    "        nll, acc = cost_fn(test_x, test_y)\n",
    "        mean_acc = (test_x.reshape((test_x.shape[0], 4, 50)).sum(axis=2).argmax(axis=1) == test_y).sum() / test_y.shape[0]\n",
    "        print(rows_seen, np.mean(costs), nll, acc, mean_acc)\n",
    "        costs = []"
   ]
  },
  {
   "cell_type": "code",
   "execution_count": 256,
   "metadata": {
    "collapsed": false
   },
   "outputs": [],
   "source": [
    "lucene_train_pred = forward_fn(generate_data(idx_train, lucene_roman)[0])\n",
    "lucene_test_pred = forward_fn(generate_data(idx_test, lucene_roman)[0])\n",
    "lucene_valid_pred = forward_fn(generate_data(idx_valid, lucene_roman)[0])"
   ]
  },
  {
   "cell_type": "markdown",
   "metadata": {},
   "source": [
    "## Lucene More Data"
   ]
  },
  {
   "cell_type": "code",
   "execution_count": 257,
   "metadata": {
    "collapsed": false
   },
   "outputs": [],
   "source": [
    "lucene_more = read_dataset(LUCENE_MORE, dims=DIM_LUCENE_MORE)"
   ]
  },
  {
   "cell_type": "code",
   "execution_count": 276,
   "metadata": {
    "collapsed": false
   },
   "outputs": [],
   "source": [
    "t_target = T.ivector()\n",
    "\n",
    "l_in = LL.InputLayer((None, 4, DIM_LUCENE_MORE))\n",
    "nn = LL.DimshuffleLayer(l_in, (0, 2, 1))\n",
    "nn = LL.LSTMLayer(nn, 5, grad_clipping=10, only_return_final=True)\n",
    "# nn = LL.DenseLayer(nn, 10, nonlinearity=elu)\n",
    "nn = LL.DenseLayer(nn, 4, nonlinearity=softmax, b=None)\n",
    "t_output = LL.get_output(nn, deterministic=False)\n",
    "t_output_det = LL.get_output(nn, deterministic=True)\n",
    "\n",
    "t_cost = lasagne.objectives.categorical_crossentropy(t_output, t_target).mean()\n",
    "t_acc = lasagne.objectives.categorical_accuracy(t_output, t_target).mean()\n",
    "\n",
    "t_cost_det = lasagne.objectives.categorical_crossentropy(t_output_det, t_target).mean()\n",
    "t_acc_det = lasagne.objectives.categorical_accuracy(t_output_det, t_target).mean()\n",
    "\n",
    "params = LL.get_all_params(nn)\n",
    "\n",
    "L2 = 0.001\n",
    "l2 = lasagne.regularization.regularize_network_params(nn, lasagne.regularization.l2)\n",
    "updates = lasagne.updates.adam(t_cost + L2*l2, params)\n",
    "\n",
    "train_fn = theano.function([l_in.input_var, t_target], t_cost, updates=updates)\n",
    "cost_fn = theano.function([l_in.input_var, t_target], [t_cost_det, t_acc_det])\n",
    "\n",
    "forward_fn = theano.function([l_in.input_var], t_output_det)\n",
    "mean_fn = theano.function([l_in.input_var], l_in.input_var.mean(axis=2).argmax(axis=1))"
   ]
  },
  {
   "cell_type": "code",
   "execution_count": 277,
   "metadata": {
    "collapsed": false
   },
   "outputs": [
    {
     "name": "stdout",
     "output_type": "stream",
     "text": [
      "10000 1.27538 1.3837480545 0.227817745803 0.55035971223\n",
      "20000 1.35043 1.3027755022 0.384892086331 0.55035971223\n",
      "30000 1.24004 1.23423862457 0.47721822542 0.55035971223\n",
      "40000 1.22101 1.23795497417 0.488009592326 0.55035971223\n",
      "50000 1.20105 1.21217191219 0.492805755396 0.55035971223\n",
      "60000 1.18703 1.2149541378 0.458033573141 0.55035971223\n",
      "70000 1.1921 1.21274876595 0.490407673861 0.55035971223\n",
      "80000 1.17808 1.1908916235 0.47721822542 0.55035971223\n",
      "90000 1.17646 1.18332064152 0.485611510791 0.55035971223\n",
      "100000 1.16929 1.18165802956 0.494004796163 0.55035971223\n",
      "110000 1.17254 1.21361863613 0.448441247002 0.55035971223\n",
      "120000 1.17026 1.178383708 0.49520383693 0.55035971223\n",
      "130000 1.16431 1.17918097973 0.492805755396 0.55035971223\n",
      "140000 1.15209 1.15832865238 0.49520383693 0.55035971223\n",
      "150000 1.15025 1.15513908863 0.516786570743 0.55035971223\n",
      "160000 1.1445 1.152561903 0.503597122302 0.55035971223\n",
      "170000 1.13546 1.14107644558 0.514388489209 0.55035971223\n",
      "180000 1.13093 1.1483720541 0.513189448441 0.55035971223\n",
      "190000 1.12949 1.1340047121 0.510791366906 0.55035971223\n",
      "200000 1.12387 1.13802790642 0.521582733813 0.55035971223\n",
      "210000 1.11871 1.12575697899 0.52757793765 0.55035971223\n",
      "220000 1.11167 1.12707006931 0.52757793765 0.55035971223\n",
      "230000 1.11293 1.12115609646 0.535971223022 0.55035971223\n",
      "240000 1.11324 1.12452578545 0.531175059952 0.55035971223\n",
      "250000 1.10438 1.11943101883 0.525179856115 0.55035971223\n",
      "260000 1.1125 1.11914622784 0.533573141487 0.55035971223\n",
      "270000 1.1067 1.11967551708 0.519184652278 0.55035971223\n",
      "280000 1.10841 1.11637568474 0.532374100719 0.55035971223\n",
      "290000 1.11066 1.12142109871 0.528776978417 0.55035971223\n",
      "300000 1.10473 1.11490380764 0.540767386091 0.55035971223\n",
      "310000 1.11017 1.1161864996 0.533573141487 0.55035971223\n",
      "320000 1.10585 1.12167000771 0.528776978417 0.55035971223\n",
      "330000 1.10432 1.11622083187 0.526378896882 0.55035971223\n",
      "340000 1.10064 1.13389348984 0.528776978417 0.55035971223\n",
      "350000 1.10396 1.11433231831 0.532374100719 0.55035971223\n",
      "360000 1.10139 1.11707746983 0.535971223022 0.55035971223\n",
      "370000 1.1016 1.1116092205 0.541966426859 0.55035971223\n",
      "380000 1.10156 1.11553835869 0.540767386091 0.55035971223\n",
      "390000 1.10313 1.11347699165 0.533573141487 0.55035971223\n",
      "400000 1.10184 1.1142398119 0.535971223022 0.55035971223\n",
      "410000 1.10511 1.11747062206 0.526378896882 0.55035971223\n",
      "420000 1.10146 1.11505508423 0.52757793765 0.55035971223\n",
      "430000 1.10479 1.10979807377 0.538369304556 0.55035971223\n",
      "440000 1.10125 1.11639976501 0.540767386091 0.55035971223\n",
      "450000 1.10133 1.11341428757 0.541966426859 0.55035971223\n",
      "460000 1.1 1.11202895641 0.541966426859 0.55035971223\n",
      "470000 1.09738 1.11115789413 0.532374100719 0.55035971223\n",
      "480000 1.10002 1.1083214283 0.539568345324 0.55035971223\n",
      "490000 1.10021 1.11299729347 0.535971223022 0.55035971223\n",
      "500000 1.09794 1.10997200012 0.535971223022 0.55035971223\n",
      "510000 1.09941 1.1057882309 0.543165467626 0.55035971223\n",
      "520000 1.09939 1.11649739742 0.525179856115 0.55035971223\n",
      "530000 1.10211 1.11681854725 0.537170263789 0.55035971223\n",
      "540000 1.09593 1.11728358269 0.541966426859 0.55035971223\n",
      "550000 1.0972 1.10846912861 0.537170263789 0.55035971223\n",
      "560000 1.09906 1.11390089989 0.52757793765 0.55035971223\n",
      "570000 1.0952 1.1137008667 0.526378896882 0.55035971223\n",
      "580000 1.09477 1.12152397633 0.535971223022 0.55035971223\n",
      "590000 1.09719 1.1060167551 0.549160671463 0.55035971223\n",
      "600000 1.09477 1.10352015495 0.543165467626 0.55035971223\n",
      "610000 1.09632 1.10884535313 0.533573141487 0.55035971223\n",
      "620000 1.09728 1.11608767509 0.526378896882 0.55035971223\n",
      "630000 1.09819 1.10415327549 0.549160671463 0.55035971223\n",
      "640000 1.09792 1.10886144638 0.532374100719 0.55035971223\n",
      "650000 1.10048 1.11677289009 0.525179856115 0.55035971223\n",
      "660000 1.09709 1.10982549191 0.533573141487 0.55035971223\n",
      "670000 1.09339 1.10668420792 0.533573141487 0.55035971223\n",
      "680000 1.0957 1.1124740839 0.533573141487 0.55035971223\n",
      "690000 1.09242 1.10086166859 0.543165467626 0.55035971223\n",
      "700000 1.09445 1.10150372982 0.544364508393 0.55035971223\n",
      "710000 1.09527 1.1028752327 0.546762589928 0.55035971223\n",
      "720000 1.09233 1.10507142544 0.532374100719 0.55035971223\n",
      "730000 1.09325 1.10343146324 0.546762589928 0.55035971223\n",
      "740000 1.09362 1.10112798214 0.540767386091 0.55035971223\n",
      "750000 1.09375 1.10152304173 0.534772182254 0.55035971223\n",
      "760000 1.09347 1.1020834446 0.534772182254 0.55035971223\n",
      "770000 1.09517 1.1007450819 0.539568345324 0.55035971223\n",
      "780000 1.09076 1.10336410999 0.535971223022 0.55035971223\n",
      "790000 1.09443 1.10022628307 0.532374100719 0.55035971223\n",
      "800000 1.09287 1.09952104092 0.539568345324 0.55035971223\n",
      "810000 1.09099 1.10907495022 0.532374100719 0.55035971223\n",
      "820000 1.09043 1.10544669628 0.535971223022 0.55035971223\n",
      "830000 1.09128 1.10454118252 0.528776978417 0.55035971223\n",
      "840000 1.09483 1.10315418243 0.52757793765 0.55035971223\n",
      "850000 1.09174 1.10086774826 0.534772182254 0.55035971223\n",
      "860000 1.09387 1.0983992815 0.541966426859 0.55035971223\n",
      "870000 1.09678 1.10594987869 0.535971223022 0.55035971223\n",
      "880000 1.0911 1.10445821285 0.540767386091 0.55035971223\n",
      "890000 1.08975 1.10404407978 0.538369304556 0.55035971223\n",
      "900000 1.09344 1.10080575943 0.546762589928 0.55035971223\n",
      "910000 1.09558 1.0992295742 0.541966426859 0.55035971223\n",
      "920000 1.0896 1.10608375072 0.529976019185 0.55035971223\n",
      "930000 1.09395 1.11971819401 0.521582733813 0.55035971223\n",
      "940000 1.09342 1.100020051 0.545563549161 0.55035971223\n",
      "950000 1.08723 1.10711634159 0.528776978417 0.55035971223\n",
      "960000 1.09327 1.09850633144 0.537170263789 0.55035971223\n",
      "970000 1.08901 1.10190153122 0.520383693046 0.55035971223\n",
      "980000 1.09056 1.10420572758 0.541966426859 0.55035971223\n",
      "990000 1.09065 1.10724174976 0.52278177458 0.55035971223\n",
      "1000000 1.08706 1.10886096954 0.541966426859 0.55035971223\n",
      "1010000 1.09087 1.10322487354 0.535971223022 0.55035971223\n",
      "1020000 1.09427 1.10608327389 0.531175059952 0.55035971223\n",
      "1030000 1.09394 1.10090112686 0.545563549161 0.55035971223\n",
      "1040000 1.09085 1.106164217 0.541966426859 0.55035971223\n",
      "1050000 1.09192 1.09866523743 0.537170263789 0.55035971223\n",
      "1060000 1.08718 1.10664439201 0.537170263789 0.55035971223\n",
      "1070000 1.08901 1.09552061558 0.543165467626 0.55035971223\n",
      "1080000 1.08877 1.10151147842 0.538369304556 0.55035971223\n",
      "1090000 1.08971 1.09829819202 0.547961630695 0.55035971223\n",
      "1100000 1.09187 1.11161196232 0.526378896882 0.55035971223\n",
      "1110000 1.09115 1.0998146534 0.538369304556 0.55035971223\n",
      "1120000 1.09163 1.10960900784 0.534772182254 0.55035971223\n",
      "1130000 1.08818 1.10204744339 0.539568345324 0.55035971223\n",
      "1140000 1.08746 1.10408806801 0.541966426859 0.55035971223\n",
      "1150000 1.09228 1.10431969166 0.533573141487 0.55035971223\n",
      "1160000 1.08968 1.10265827179 0.535971223022 0.55035971223\n",
      "1170000 1.0887 1.10537791252 0.531175059952 0.55035971223\n",
      "1180000 1.09167 1.10134637356 0.549160671463 0.55035971223\n",
      "1190000 1.08982 1.09972059727 0.544364508393 0.55035971223\n",
      "1200000 1.09092 1.10317873955 0.538369304556 0.55035971223\n",
      "1210000 1.08578 1.10843610764 0.528776978417 0.55035971223\n",
      "1220000 1.08895 1.11382377148 0.533573141487 0.55035971223\n",
      "1230000 1.08765 1.11370396614 0.516786570743 0.55035971223\n",
      "1240000 1.09126 1.10143625736 0.534772182254 0.55035971223\n",
      "1250000 1.08932 1.10680186749 0.534772182254 0.55035971223\n",
      "1260000 1.0911 1.10073113441 0.541966426859 0.55035971223\n",
      "1270000 1.08408 1.10833323002 0.525179856115 0.55035971223\n",
      "1280000 1.09126 1.11209106445 0.543165467626 0.55035971223\n",
      "1290000 1.09386 1.1025031805 0.533573141487 0.55035971223\n",
      "1300000 1.08502 1.09899675846 0.539568345324 0.55035971223\n",
      "1310000 1.08763 1.10667693615 0.532374100719 0.55035971223\n",
      "1320000 1.09207 1.09980368614 0.544364508393 0.55035971223\n",
      "1330000 1.08733 1.09918510914 0.538369304556 0.55035971223\n",
      "1340000 1.08747 1.1095379591 0.523980815348 0.55035971223\n",
      "1350000 1.09174 1.10814571381 0.528776978417 0.55035971223\n",
      "1360000 1.08803 1.10325670242 0.535971223022 0.55035971223\n",
      "1370000 1.08785 1.09945178032 0.5551558753 0.55035971223\n",
      "1380000 1.08899 1.1056497097 0.526378896882 0.55035971223\n",
      "1390000 1.09015 1.10070002079 0.531175059952 0.55035971223\n",
      "1400000 1.09045 1.09828209877 0.539568345324 0.55035971223\n",
      "1410000 1.08607 1.10528171062 0.538369304556 0.55035971223\n",
      "1420000 1.08669 1.09972214699 0.541966426859 0.55035971223\n",
      "1430000 1.09075 1.09813773632 0.545563549161 0.55035971223\n",
      "1440000 1.08574 1.09937143326 0.528776978417 0.55035971223\n",
      "1450000 1.09015 1.102039814 0.531175059952 0.55035971223\n",
      "1460000 1.08522 1.10591697693 0.535971223022 0.55035971223\n",
      "1470000 1.0899 1.10821902752 0.523980815348 0.55035971223\n",
      "1480000 1.08684 1.09916484356 0.531175059952 0.55035971223\n",
      "1490000 1.0901 1.10322058201 0.541966426859 0.55035971223\n",
      "1500000 1.0881 1.10023498535 0.546762589928 0.55035971223\n",
      "1510000 1.08513 1.10994160175 0.52278177458 0.55035971223\n",
      "1520000 1.08998 1.10547947884 0.538369304556 0.55035971223\n",
      "1530000 1.09026 1.10918366909 0.526378896882 0.55035971223\n",
      "1540000 1.08903 1.10076379776 0.529976019185 0.55035971223\n",
      "1550000 1.08489 1.10071969032 0.534772182254 0.55035971223\n",
      "1560000 1.08508 1.10267043114 0.537170263789 0.55035971223\n",
      "1570000 1.08931 1.09947884083 0.529976019185 0.55035971223\n",
      "1580000 1.08435 1.09861528873 0.539568345324 0.55035971223\n",
      "1590000 1.08868 1.10443365574 0.52278177458 0.55035971223\n",
      "1600000 1.08409 1.10174238682 0.535971223022 0.55035971223\n",
      "1610000 1.08704 1.10638964176 0.534772182254 0.55035971223\n",
      "1620000 1.0906 1.09987616539 0.531175059952 0.55035971223\n",
      "1630000 1.08837 1.11014568806 0.521582733813 0.55035971223\n",
      "1640000 1.08418 1.09921693802 0.528776978417 0.55035971223\n",
      "1650000 1.0885 1.09760177135 0.55035971223 0.55035971223\n",
      "1660000 1.08251 1.10295701027 0.533573141487 0.55035971223\n",
      "1670000 1.0847 1.09615075588 0.533573141487 0.55035971223\n",
      "1680000 1.08857 1.10140681267 0.534772182254 0.55035971223\n",
      "1690000 1.09041 1.09691941738 0.546762589928 0.55035971223\n",
      "1700000 1.08267 1.10828793049 0.539568345324 0.55035971223\n",
      "1710000 1.0922 1.09921145439 0.543165467626 0.55035971223\n",
      "1720000 1.08905 1.09856724739 0.538369304556 0.55035971223\n",
      "1730000 1.08199 1.09709477425 0.541966426859 0.55035971223\n",
      "1740000 1.08899 1.10081923008 0.543165467626 0.55035971223\n",
      "1750000 1.0891 1.1089373827 0.531175059952 0.55035971223\n",
      "1760000 1.09013 1.09972786903 0.538369304556 0.55035971223\n",
      "1770000 1.0868 1.10087406635 0.534772182254 0.55035971223\n",
      "1780000 1.08446 1.09930980206 0.537170263789 0.55035971223\n",
      "1790000 1.08736 1.11345911026 0.534772182254 0.55035971223\n",
      "1800000 1.08992 1.10218834877 0.540767386091 0.55035971223\n",
      "1810000 1.08803 1.10434341431 0.537170263789 0.55035971223\n",
      "1820000 1.08828 1.10506236553 0.529976019185 0.55035971223\n",
      "1830000 1.08661 1.10272932053 0.533573141487 0.55035971223\n",
      "1840000 1.08567 1.09854185581 0.533573141487 0.55035971223\n",
      "1850000 1.08505 1.10134410858 0.526378896882 0.55035971223\n",
      "1860000 1.09061 1.10217690468 0.534772182254 0.55035971223\n",
      "1870000 1.08642 1.10014164448 0.526378896882 0.55035971223\n",
      "1880000 1.08759 1.10635197163 0.537170263789 0.55035971223\n",
      "1890000 1.08551 1.10476720333 0.535971223022 0.55035971223\n",
      "1900000 1.08648 1.10049772263 0.537170263789 0.55035971223\n",
      "1910000 1.08801 1.10860145092 0.531175059952 0.55035971223\n",
      "1920000 1.09162 1.11028456688 0.526378896882 0.55035971223\n",
      "1930000 1.0816 1.10359537601 0.533573141487 0.55035971223\n",
      "1940000 1.0849 1.10573101044 0.528776978417 0.55035971223\n",
      "1950000 1.08621 1.10076260567 0.540767386091 0.55035971223\n"
     ]
    },
    {
     "ename": "KeyboardInterrupt",
     "evalue": "",
     "output_type": "error",
     "traceback": [
      "\u001b[1;31m---------------------------------------------------------------------------\u001b[0m",
      "\u001b[1;31mKeyboardInterrupt\u001b[0m                         Traceback (most recent call last)",
      "\u001b[1;32m<ipython-input-277-cd0d08b63c3a>\u001b[0m in \u001b[0;36m<module>\u001b[1;34m()\u001b[0m\n\u001b[0;32m      9\u001b[0m     \u001b[0mindices\u001b[0m \u001b[1;33m=\u001b[0m \u001b[0mtake\u001b[0m\u001b[1;33m(\u001b[0m\u001b[0mBATCH\u001b[0m\u001b[1;33m,\u001b[0m \u001b[0mid_generator\u001b[0m\u001b[1;33m)\u001b[0m\u001b[1;33m\u001b[0m\u001b[0m\n\u001b[0;32m     10\u001b[0m     \u001b[0mbatch_x\u001b[0m\u001b[1;33m,\u001b[0m \u001b[0mbatch_y\u001b[0m \u001b[1;33m=\u001b[0m \u001b[0mshuffle_dataset\u001b[0m\u001b[1;33m(\u001b[0m\u001b[1;33m*\u001b[0m\u001b[0mgenerate_data\u001b[0m\u001b[1;33m(\u001b[0m\u001b[0mindices\u001b[0m\u001b[1;33m,\u001b[0m \u001b[0mlucene_more\u001b[0m\u001b[1;33m)\u001b[0m\u001b[1;33m)\u001b[0m\u001b[1;33m\u001b[0m\u001b[0m\n\u001b[1;32m---> 11\u001b[1;33m     \u001b[0mcosts\u001b[0m\u001b[1;33m.\u001b[0m\u001b[0mappend\u001b[0m\u001b[1;33m(\u001b[0m\u001b[0mtrain_fn\u001b[0m\u001b[1;33m(\u001b[0m\u001b[0mbatch_x\u001b[0m\u001b[1;33m,\u001b[0m \u001b[0mbatch_y\u001b[0m\u001b[1;33m)\u001b[0m\u001b[1;33m)\u001b[0m\u001b[1;33m\u001b[0m\u001b[0m\n\u001b[0m\u001b[0;32m     12\u001b[0m     \u001b[0mrows_seen\u001b[0m \u001b[1;33m+=\u001b[0m \u001b[0mBATCH\u001b[0m\u001b[1;33m\u001b[0m\u001b[0m\n\u001b[0;32m     13\u001b[0m     \u001b[1;32mif\u001b[0m \u001b[0mrows_seen\u001b[0m \u001b[1;33m%\u001b[0m \u001b[1;36m10000\u001b[0m \u001b[1;33m<\u001b[0m \u001b[0mBATCH\u001b[0m\u001b[1;33m:\u001b[0m\u001b[1;33m\u001b[0m\u001b[0m\n",
      "\u001b[1;32m/usr/local/lib/python2.7/dist-packages/theano/compile/function_module.pyc\u001b[0m in \u001b[0;36m__call__\u001b[1;34m(self, *args, **kwargs)\u001b[0m\n\u001b[0;32m    857\u001b[0m         \u001b[0mt0_fn\u001b[0m \u001b[1;33m=\u001b[0m \u001b[0mtime\u001b[0m\u001b[1;33m.\u001b[0m\u001b[0mtime\u001b[0m\u001b[1;33m(\u001b[0m\u001b[1;33m)\u001b[0m\u001b[1;33m\u001b[0m\u001b[0m\n\u001b[0;32m    858\u001b[0m         \u001b[1;32mtry\u001b[0m\u001b[1;33m:\u001b[0m\u001b[1;33m\u001b[0m\u001b[0m\n\u001b[1;32m--> 859\u001b[1;33m             \u001b[0moutputs\u001b[0m \u001b[1;33m=\u001b[0m \u001b[0mself\u001b[0m\u001b[1;33m.\u001b[0m\u001b[0mfn\u001b[0m\u001b[1;33m(\u001b[0m\u001b[1;33m)\u001b[0m\u001b[1;33m\u001b[0m\u001b[0m\n\u001b[0m\u001b[0;32m    860\u001b[0m         \u001b[1;32mexcept\u001b[0m \u001b[0mException\u001b[0m\u001b[1;33m:\u001b[0m\u001b[1;33m\u001b[0m\u001b[0m\n\u001b[0;32m    861\u001b[0m             \u001b[1;32mif\u001b[0m \u001b[0mhasattr\u001b[0m\u001b[1;33m(\u001b[0m\u001b[0mself\u001b[0m\u001b[1;33m.\u001b[0m\u001b[0mfn\u001b[0m\u001b[1;33m,\u001b[0m \u001b[1;34m'position_of_error'\u001b[0m\u001b[1;33m)\u001b[0m\u001b[1;33m:\u001b[0m\u001b[1;33m\u001b[0m\u001b[0m\n",
      "\u001b[1;32m/usr/local/lib/python2.7/dist-packages/theano/scan_module/scan_op.pyc\u001b[0m in \u001b[0;36mrval\u001b[1;34m(p, i, o, n, allow_gc)\u001b[0m\n\u001b[0;32m    961\u001b[0m         def rval(p=p, i=node_input_storage, o=node_output_storage, n=node,\n\u001b[0;32m    962\u001b[0m                  allow_gc=allow_gc):\n\u001b[1;32m--> 963\u001b[1;33m             \u001b[0mr\u001b[0m \u001b[1;33m=\u001b[0m \u001b[0mp\u001b[0m\u001b[1;33m(\u001b[0m\u001b[0mn\u001b[0m\u001b[1;33m,\u001b[0m \u001b[1;33m[\u001b[0m\u001b[0mx\u001b[0m\u001b[1;33m[\u001b[0m\u001b[1;36m0\u001b[0m\u001b[1;33m]\u001b[0m \u001b[1;32mfor\u001b[0m \u001b[0mx\u001b[0m \u001b[1;32min\u001b[0m \u001b[0mi\u001b[0m\u001b[1;33m]\u001b[0m\u001b[1;33m,\u001b[0m \u001b[0mo\u001b[0m\u001b[1;33m)\u001b[0m\u001b[1;33m\u001b[0m\u001b[0m\n\u001b[0m\u001b[0;32m    964\u001b[0m             \u001b[1;32mfor\u001b[0m \u001b[0mo\u001b[0m \u001b[1;32min\u001b[0m \u001b[0mnode\u001b[0m\u001b[1;33m.\u001b[0m\u001b[0moutputs\u001b[0m\u001b[1;33m:\u001b[0m\u001b[1;33m\u001b[0m\u001b[0m\n\u001b[0;32m    965\u001b[0m                 \u001b[0mcompute_map\u001b[0m\u001b[1;33m[\u001b[0m\u001b[0mo\u001b[0m\u001b[1;33m]\u001b[0m\u001b[1;33m[\u001b[0m\u001b[1;36m0\u001b[0m\u001b[1;33m]\u001b[0m \u001b[1;33m=\u001b[0m \u001b[0mTrue\u001b[0m\u001b[1;33m\u001b[0m\u001b[0m\n",
      "\u001b[1;32m/usr/local/lib/python2.7/dist-packages/theano/scan_module/scan_op.pyc\u001b[0m in \u001b[0;36m<lambda>\u001b[1;34m(node, args, outs)\u001b[0m\n\u001b[0;32m    950\u001b[0m                         \u001b[0margs\u001b[0m\u001b[1;33m,\u001b[0m\u001b[1;33m\u001b[0m\u001b[0m\n\u001b[0;32m    951\u001b[0m                         \u001b[0mouts\u001b[0m\u001b[1;33m,\u001b[0m\u001b[1;33m\u001b[0m\u001b[0m\n\u001b[1;32m--> 952\u001b[1;33m                         self, node)\n\u001b[0m\u001b[0;32m    953\u001b[0m         \u001b[1;32mexcept\u001b[0m \u001b[1;33m(\u001b[0m\u001b[0mImportError\u001b[0m\u001b[1;33m,\u001b[0m \u001b[0mtheano\u001b[0m\u001b[1;33m.\u001b[0m\u001b[0mgof\u001b[0m\u001b[1;33m.\u001b[0m\u001b[0mcmodule\u001b[0m\u001b[1;33m.\u001b[0m\u001b[0mMissingGXX\u001b[0m\u001b[1;33m)\u001b[0m\u001b[1;33m:\u001b[0m\u001b[1;33m\u001b[0m\u001b[0m\n\u001b[0;32m    954\u001b[0m             \u001b[0mp\u001b[0m \u001b[1;33m=\u001b[0m \u001b[0mself\u001b[0m\u001b[1;33m.\u001b[0m\u001b[0mexecute\u001b[0m\u001b[1;33m\u001b[0m\u001b[0m\n",
      "\u001b[1;31mKeyboardInterrupt\u001b[0m: "
     ]
    }
   ],
   "source": [
    "id_generator = cycle_rand(idx_train)\n",
    "\n",
    "test_x, test_y = generate_data(idx_test, lucene_more)\n",
    "\n",
    "BATCH = 100\n",
    "\n",
    "rows_seen = 0\n",
    "while rows_seen < 3000000:\n",
    "    indices = take(BATCH, id_generator)\n",
    "    batch_x, batch_y = shuffle_dataset(*generate_data(indices, lucene_more))\n",
    "    costs.append(train_fn(batch_x, batch_y))\n",
    "    rows_seen += BATCH\n",
    "    if rows_seen % 10000 < BATCH:\n",
    "        nll, acc = cost_fn(test_x, test_y)\n",
    "        mean_acc = (test_x.sum(axis=2).argmax(axis=1) == test_y).sum() / test_y.shape[0]\n",
    "        print(rows_seen, np.mean(costs), nll, acc, mean_acc)\n",
    "        costs = []"
   ]
  },
  {
   "cell_type": "code",
   "execution_count": 278,
   "metadata": {
    "collapsed": true
   },
   "outputs": [],
   "source": [
    "lucenem_train_pred = forward_fn(generate_data(idx_train, lucene_more)[0])\n",
    "lucenem_test_pred = forward_fn(generate_data(idx_test, lucene_more)[0])\n",
    "lucenem_valid_pred = forward_fn(generate_data(idx_valid, lucene_more)[0])"
   ]
  },
  {
   "cell_type": "markdown",
   "metadata": {},
   "source": [
    "## Averaging\n",
    "-------------"
   ]
  },
  {
   "cell_type": "code",
   "execution_count": 283,
   "metadata": {
    "collapsed": false
   },
   "outputs": [
    {
     "name": "stdout",
     "output_type": "stream",
     "text": [
      "Training average [ 0.55942377]\n",
      "Testing average [ 0.56354916]\n"
     ]
    }
   ],
   "source": [
    "_, train_y = generate_data(idx_train, ngrams)\n",
    "\n",
    "average_train_pred = 2*lucenem_train_pred + lucene_train_pred + reptil_train_pred + ngrams_train_pred\n",
    "average_test_pred = 2*lucenem_test_pred + lucene_test_pred + reptil_test_pred + ngrams_test_pred\n",
    "average_valid_pred = 2*lucenem_valid_pred + lucene_valid_pred + reptil_valid_pred + ngrams_valid_pred\n",
    "\n",
    "print('Training average', (average_train_pred.argmax(axis=1) == train_y).sum() / train_y.shape)\n",
    "print('Testing average', (average_test_pred.argmax(axis=1) == test_y).sum() / test_y.shape)\n"
   ]
  },
  {
   "cell_type": "markdown",
   "metadata": {},
   "source": [
    "## Submit\n",
    "----------------"
   ]
  },
  {
   "cell_type": "code",
   "execution_count": 286,
   "metadata": {
    "collapsed": false
   },
   "outputs": [],
   "source": [
    "with open(SUMBISSION_FILE, encoding='utf8', mode='w') as f:\n",
    "    print('id,correctAnswer', file=f)\n",
    "    for i in xrange(average_valid_pred.shape[0]):\n",
    "        print(idx_valid[i], 'ABCD'[average_valid_pred[i].argmax()], sep=',', file=f)"
   ]
  }
 ],
 "metadata": {
  "kernelspec": {
   "display_name": "Python 2",
   "language": "python",
   "name": "python2"
  },
  "language_info": {
   "codemirror_mode": {
    "name": "ipython",
    "version": 2
   },
   "file_extension": ".py",
   "mimetype": "text/x-python",
   "name": "python",
   "nbconvert_exporter": "python",
   "pygments_lexer": "ipython2",
   "version": "2.7.6"
  }
 },
 "nbformat": 4,
 "nbformat_minor": 0
}
